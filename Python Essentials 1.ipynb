{
 "cells": [
  {
   "cell_type": "markdown",
   "id": "5573a58b",
   "metadata": {
    "id": "5573a58b"
   },
   "source": [
    "# What is Jupyter  Notebook\n",
    "* The Jupyter Notebook is an open-source web application that allows data scientists to create and share documents that           integrate live code, equations, computational output, visualizations, and other multimedia resources,\n",
    "\n",
    "* Uses include data cleaning and transformation, numerical simulation, statistical modeling, data visualization, machine         learning, and much more.\n"
   ]
  },
  {
   "cell_type": "code",
   "execution_count": null,
   "id": "39ace875-a568-4d06-8715-d908bd0508a0",
   "metadata": {
    "id": "39ace875-a568-4d06-8715-d908bd0508a0"
   },
   "outputs": [],
   "source": []
  },
  {
   "cell_type": "markdown",
   "id": "1c454286",
   "metadata": {
    "id": "1c454286"
   },
   "source": [
    "## Tutorial\n",
    "- Interactive\n",
    "- Results/outputs are stored so it is easy to review\n",
    "- Friendly for documentation\n",
    "- No limitation from performance\n",
    "- helpful shortcuts\n",
    "- Industry standard for all data science, ML, AI projects.\n",
    "\n",
    "<p> Extension of jupyter file is ipynb (i python notebook, previous name of Jupyter) </p>\n",
    "\n"
   ]
  },
  {
   "cell_type": "raw",
   "id": "e6204892-fca1-47d1-ac4a-2f790807306f",
   "metadata": {
    "id": "e6204892-fca1-47d1-ac4a-2f790807306f"
   },
   "source": [
    "datamites"
   ]
  },
  {
   "cell_type": "markdown",
   "id": "ee8239e8",
   "metadata": {
    "id": "ee8239e8"
   },
   "source": [
    "# This is a markdown\n",
    "\n",
    "**this is bold** this is not boldewfhbwebfs\n",
    "\n"
   ]
  },
  {
   "cell_type": "markdown",
   "id": "1b736711-55b2-43a0-b109-a92948982527",
   "metadata": {
    "id": "1b736711-55b2-43a0-b109-a92948982527"
   },
   "source": [
    "### We are at Datamites"
   ]
  },
  {
   "cell_type": "markdown",
   "id": "c513cea0-0cc7-41f8-8949-8ae33fd92bfd",
   "metadata": {
    "id": "c513cea0-0cc7-41f8-8949-8ae33fd92bfd"
   },
   "source": [
    "# We are at Datamites"
   ]
  },
  {
   "cell_type": "code",
   "execution_count": null,
   "id": "63885682-d8f8-4d01-b3b3-e6c94fb2f58a",
   "metadata": {
    "id": "63885682-d8f8-4d01-b3b3-e6c94fb2f58a"
   },
   "outputs": [],
   "source": [
    "This is Raw NBConvert\n",
    "python is coding launguage\n",
    "\n",
    "This is a raw cell\n",
    "Jupyter is awesome\n",
    "\n"
   ]
  },
  {
   "cell_type": "markdown",
   "id": "e42f1caf-dc12-4c7e-8a34-6b3ddca93b6e",
   "metadata": {
    "id": "e42f1caf-dc12-4c7e-8a34-6b3ddca93b6e"
   },
   "source": [
    "### mode\n",
    "* Brown----> edit mode(Enter button)\n",
    "* blue-----> command mode(Esc button)\n"
   ]
  },
  {
   "cell_type": "markdown",
   "id": "c52792f1-f1d0-4559-8134-be595de0d64a",
   "metadata": {
    "id": "c52792f1-f1d0-4559-8134-be595de0d64a"
   },
   "source": [
    "#### We are at Datmites"
   ]
  },
  {
   "cell_type": "raw",
   "id": "d9241cb2-79b1-496a-ba5f-29458d9ba134",
   "metadata": {
    "id": "d9241cb2-79b1-496a-ba5f-29458d9ba134"
   },
   "source": [
    "a = 12\n",
    "b = 20\n",
    "c = a+b\n",
    "c"
   ]
  },
  {
   "cell_type": "code",
   "execution_count": null,
   "id": "d531c013-f372-48ed-aa51-6113674cc9cd",
   "metadata": {
    "id": "d531c013-f372-48ed-aa51-6113674cc9cd",
    "jupyter": {
     "source_hidden": true
    },
    "outputId": "70752aee-bd9a-41d1-c782-40b07fc18b6c"
   },
   "outputs": [
    {
     "data": {
      "text/plain": [
       "30"
      ]
     },
     "execution_count": 9,
     "metadata": {},
     "output_type": "execute_result"
    }
   ],
   "source": [
    "# Write a code for addition\n",
    "a = 10\n",
    "b = 20\n",
    "a+b"
   ]
  },
  {
   "cell_type": "code",
   "execution_count": null,
   "id": "c8bf277a-42c4-4a4b-823a-393b6eebcce4",
   "metadata": {
    "id": "c8bf277a-42c4-4a4b-823a-393b6eebcce4",
    "jupyter": {
     "source_hidden": true
    }
   },
   "outputs": [],
   "source": []
  },
  {
   "cell_type": "markdown",
   "id": "781e24d7-9d58-48d4-8d5d-a6f133d45d11",
   "metadata": {
    "id": "781e24d7-9d58-48d4-8d5d-a6f133d45d11",
    "jupyter": {
     "source_hidden": true
    }
   },
   "source": [
    "cgfghghu"
   ]
  },
  {
   "cell_type": "code",
   "execution_count": null,
   "id": "a25d1cae-ebc1-468a-be57-80f4a74e9b46",
   "metadata": {
    "id": "a25d1cae-ebc1-468a-be57-80f4a74e9b46"
   },
   "outputs": [],
   "source": [
    "###"
   ]
  },
  {
   "cell_type": "markdown",
   "id": "30453e76-fe2e-4ea8-ad27-ce85652ee1e8",
   "metadata": {
    "id": "30453e76-fe2e-4ea8-ad27-ce85652ee1e8",
    "jupyter": {
     "source_hidden": true
    }
   },
   "source": [
    "cgfghghu"
   ]
  },
  {
   "cell_type": "markdown",
   "id": "38a7add7-6e14-45d3-8e87-94530e8cc2ae",
   "metadata": {
    "id": "38a7add7-6e14-45d3-8e87-94530e8cc2ae"
   },
   "source": [
    "# Short Cuts\n",
    "\n",
    "[shift] + [enter] : run a cell\n",
    "\n",
    "Command mode:\n",
    "\n",
    "a : insert cell above\n",
    "\n",
    "b : insert cell below\n",
    "\n",
    "dd : delete a cell\n",
    "\n",
    "z : undo a delete cell\n",
    "\n",
    "r : convert cell to raw cell\n",
    "\n",
    "m : convert cell to Markdown cell\n",
    "\n",
    "y : convert cell to code cell\n",
    "\n",
    "c: copy a cell\n",
    "\n",
    "v : paste a cell\n",
    "\n",
    "x : cut a cell\n",
    "\n",
    "o : toggle output\n",
    "\n",
    "# Edit Mode:\n",
    "\n",
    "Ctrl + C : copy a text\n",
    "\n",
    "Ctrl + V : paste\n",
    "\n",
    "Ctrl + X : cut\n",
    "\n",
    "Ctrl + Z : undo"
   ]
  },
  {
   "cell_type": "code",
   "execution_count": null,
   "id": "7a3da54c-27be-48fe-8881-9b5b6dace07c",
   "metadata": {
    "id": "7a3da54c-27be-48fe-8881-9b5b6dace07c"
   },
   "outputs": [],
   "source": [
    "# Keywords"
   ]
  },
  {
   "cell_type": "markdown",
   "id": "2ff40f6f-d501-4006-b8ee-49142e69573f",
   "metadata": {
    "id": "2ff40f6f-d501-4006-b8ee-49142e69573f"
   },
   "source": [
    "* Keywords in python are reserved words in python and cant be used as identifiers.  "
   ]
  },
  {
   "cell_type": "code",
   "execution_count": null,
   "id": "0ab1d4b0",
   "metadata": {
    "colab": {
     "base_uri": "https://localhost:8080/"
    },
    "executionInfo": {
     "elapsed": 7,
     "status": "ok",
     "timestamp": 1679915408933,
     "user": {
      "displayName": "Jitendra Rathod",
      "userId": "08588782662248261812"
     },
     "user_tz": -330
    },
    "id": "0ab1d4b0",
    "outputId": "76093bce-910a-4418-f32f-3b52a7b24e2e"
   },
   "outputs": [
    {
     "name": "stdout",
     "output_type": "stream",
     "text": [
      "['False', 'None', 'True', 'and', 'as', 'assert', 'async', 'await', 'break', 'class', 'continue', 'def', 'del', 'elif', 'else', 'except', 'finally', 'for', 'from', 'global', 'if', 'import', 'in', 'is', 'lambda', 'nonlocal', 'not', 'or', 'pass', 'raise', 'return', 'try', 'while', 'with', 'yield'] 35\n"
     ]
    }
   ],
   "source": [
    "import keyword\n",
    "print(keyword.kwlist, len(keyword.kwlist))  # It will give all keywords of python"
   ]
  },
  {
   "cell_type": "code",
   "execution_count": null,
   "id": "6c5db20a-ecbb-4864-8dc2-49698e0abd8b",
   "metadata": {
    "id": "6c5db20a-ecbb-4864-8dc2-49698e0abd8b",
    "outputId": "a34f4db6-e376-43b6-de8c-10c2bf13c94c"
   },
   "outputs": [
    {
     "data": {
      "text/plain": [
       "2780364800848"
      ]
     },
     "execution_count": 14,
     "metadata": {},
     "output_type": "execute_result"
    }
   ],
   "source": [
    "a = 20\n",
    "id(a)"
   ]
  },
  {
   "cell_type": "code",
   "execution_count": null,
   "id": "17544348-5941-4542-9547-a8c5e2be3105",
   "metadata": {
    "id": "17544348-5941-4542-9547-a8c5e2be3105",
    "outputId": "4e92eb27-524b-4729-eeac-90428cc5e8ad"
   },
   "outputs": [
    {
     "data": {
      "text/plain": [
       "2780364800848"
      ]
     },
     "execution_count": 15,
     "metadata": {},
     "output_type": "execute_result"
    }
   ],
   "source": [
    "b = 20\n",
    "id(b)"
   ]
  },
  {
   "cell_type": "code",
   "execution_count": null,
   "id": "46614210-b775-4024-9309-b4b369b754a2",
   "metadata": {
    "id": "46614210-b775-4024-9309-b4b369b754a2",
    "outputId": "3aab8d0a-02f1-44fe-9ac6-0bfbc3d26d63"
   },
   "outputs": [
    {
     "data": {
      "text/plain": [
       "2780364800880"
      ]
     },
     "execution_count": 16,
     "metadata": {},
     "output_type": "execute_result"
    }
   ],
   "source": [
    "a = 21\n",
    "id(a)"
   ]
  },
  {
   "cell_type": "code",
   "execution_count": null,
   "id": "7a9ef08d",
   "metadata": {
    "id": "7a9ef08d"
   },
   "outputs": [],
   "source": [
    "len(keyword.kwlist)"
   ]
  },
  {
   "cell_type": "markdown",
   "id": "c15e70c8",
   "metadata": {
    "id": "c15e70c8"
   },
   "source": [
    "# Identifiers"
   ]
  },
  {
   "cell_type": "markdown",
   "id": "41911e15",
   "metadata": {
    "id": "41911e15"
   },
   "source": [
    "* An identifier is the name given to entities like functions,variables etc.\n",
    "* It helps in differentiating one entity from other."
   ]
  },
  {
   "cell_type": "code",
   "execution_count": null,
   "id": "66cb1403",
   "metadata": {
    "id": "66cb1403"
   },
   "outputs": [],
   "source": [
    "var1 =34  #identifier can not be initaite with digit."
   ]
  },
  {
   "cell_type": "code",
   "execution_count": null,
   "id": "5cf362c0-7ab9-46e2-af5c-328af3bad600",
   "metadata": {
    "id": "5cf362c0-7ab9-46e2-af5c-328af3bad600",
    "outputId": "b5ec50e8-f751-4fdd-ecc1-2157f4d4f7dc"
   },
   "outputs": [
    {
     "data": {
      "text/plain": [
       "34"
      ]
     },
     "execution_count": 6,
     "metadata": {},
     "output_type": "execute_result"
    }
   ],
   "source": [
    "var2 = 34\n",
    "var2"
   ]
  },
  {
   "cell_type": "code",
   "execution_count": null,
   "id": "c100d47b",
   "metadata": {
    "id": "c100d47b",
    "outputId": "5b6d05a8-9ed9-47b1-d5af-d9ff47650cf0"
   },
   "outputs": [
    {
     "ename": "SyntaxError",
     "evalue": "cannot assign to expression here. Maybe you meant '==' instead of '='? (1247436163.py, line 1)",
     "output_type": "error",
     "traceback": [
      "\u001b[1;36m  Cell \u001b[1;32mIn[7], line 1\u001b[1;36m\u001b[0m\n\u001b[1;33m    var@123='abc' # Identifer cannot use special symbol\u001b[0m\n\u001b[1;37m    ^\u001b[0m\n\u001b[1;31mSyntaxError\u001b[0m\u001b[1;31m:\u001b[0m cannot assign to expression here. Maybe you meant '==' instead of '='?\n"
     ]
    }
   ],
   "source": [
    "var@123='abc' # Identifer cannot use special symbol"
   ]
  },
  {
   "cell_type": "code",
   "execution_count": null,
   "id": "90316c3e-27de-404d-a68c-3a65271f3c19",
   "metadata": {
    "id": "90316c3e-27de-404d-a68c-3a65271f3c19"
   },
   "outputs": [],
   "source": [
    "var_123='abc'"
   ]
  },
  {
   "cell_type": "code",
   "execution_count": null,
   "id": "57ac31ff",
   "metadata": {
    "id": "57ac31ff",
    "outputId": "113bdf82-118d-4eb3-826e-85892b9dd3ce"
   },
   "outputs": [
    {
     "ename": "SyntaxError",
     "evalue": "invalid syntax (4267806053.py, line 1)",
     "output_type": "error",
     "traceback": [
      "\u001b[1;36m  Cell \u001b[1;32mIn[12], line 1\u001b[1;36m\u001b[0m\n\u001b[1;33m    import=123 # Keywords cannot be used as identifier\u001b[0m\n\u001b[1;37m          ^\u001b[0m\n\u001b[1;31mSyntaxError\u001b[0m\u001b[1;31m:\u001b[0m invalid syntax\n"
     ]
    }
   ],
   "source": [
    "import=123 # Keywords cannot be used as identifier"
   ]
  },
  {
   "cell_type": "code",
   "execution_count": null,
   "id": "2bba50bc",
   "metadata": {
    "id": "2bba50bc"
   },
   "outputs": [],
   "source": [
    "\"\"\"\n",
    "Correct way of defining an identifier\n",
    "(Identifiers can be a combination of letters in lowercase (a to z) or uppercase\n",
    "and only special chararcter allowed is _ )\"\"\"\n",
    "\n",
    "\n",
    "var=2\n",
    "# var is entity called as variable has been created and assigned with valeu of 2"
   ]
  },
  {
   "cell_type": "code",
   "execution_count": null,
   "id": "1f250660",
   "metadata": {
    "id": "1f250660"
   },
   "outputs": [],
   "source": [
    "VAR=2"
   ]
  },
  {
   "cell_type": "code",
   "execution_count": null,
   "id": "e7f87ea3-9e94-42a9-851d-8919aff8c323",
   "metadata": {
    "id": "e7f87ea3-9e94-42a9-851d-8919aff8c323"
   },
   "outputs": [],
   "source": [
    "var = 3"
   ]
  },
  {
   "cell_type": "code",
   "execution_count": null,
   "id": "683313e3",
   "metadata": {
    "id": "683313e3"
   },
   "outputs": [],
   "source": [
    "var_12='Data'"
   ]
  },
  {
   "cell_type": "code",
   "execution_count": null,
   "id": "b7d30d43-b3b3-4336-9865-07bf7fef23cc",
   "metadata": {
    "id": "b7d30d43-b3b3-4336-9865-07bf7fef23cc",
    "outputId": "beddd32f-a0fa-4363-a30b-f86e4dcc830e"
   },
   "outputs": [
    {
     "data": {
      "text/plain": [
       "3"
      ]
     },
     "execution_count": 16,
     "metadata": {},
     "output_type": "execute_result"
    }
   ],
   "source": [
    "var"
   ]
  },
  {
   "cell_type": "code",
   "execution_count": null,
   "id": "4e589f13-8e69-48e2-89f9-1ccc0162038d",
   "metadata": {
    "id": "4e589f13-8e69-48e2-89f9-1ccc0162038d",
    "outputId": "5a1dc24b-f338-49d7-fa72-85fa0415c616"
   },
   "outputs": [
    {
     "data": {
      "text/plain": [
       "2"
      ]
     },
     "execution_count": 19,
     "metadata": {},
     "output_type": "execute_result"
    }
   ],
   "source": [
    "VAR"
   ]
  },
  {
   "cell_type": "markdown",
   "id": "97b903b7",
   "metadata": {
    "id": "97b903b7"
   },
   "source": [
    "# Comments"
   ]
  },
  {
   "cell_type": "code",
   "execution_count": null,
   "id": "b122c88c-28ba-4a5d-9c10-4b9ecb7505d6",
   "metadata": {
    "id": "b122c88c-28ba-4a5d-9c10-4b9ecb7505d6",
    "outputId": "81a60ff7-e5c2-4d86-d5ab-9139a53a58f8"
   },
   "outputs": [
    {
     "data": {
      "text/plain": [
       "False"
      ]
     },
     "execution_count": 23,
     "metadata": {},
     "output_type": "execute_result"
    }
   ],
   "source": [
    "'abc' == 'Abc'"
   ]
  },
  {
   "cell_type": "code",
   "execution_count": null,
   "id": "c26ab47c-c55a-4bcb-a3d2-582a8de6857a",
   "metadata": {
    "id": "c26ab47c-c55a-4bcb-a3d2-582a8de6857a"
   },
   "outputs": [],
   "source": [
    "a = 20 # Value of a is 10"
   ]
  },
  {
   "cell_type": "markdown",
   "id": "d915980a",
   "metadata": {
    "id": "d915980a"
   },
   "source": [
    "* Comments can be used to explain the code for more readabilty."
   ]
  },
  {
   "cell_type": "code",
   "execution_count": null,
   "id": "bba78a99",
   "metadata": {
    "id": "bba78a99"
   },
   "outputs": [],
   "source": [
    "#  Single line comment\n",
    "# val2 = 10\n"
   ]
  },
  {
   "cell_type": "code",
   "execution_count": null,
   "id": "5fef9108-f12c-4f38-808c-dc175d1bb6ae",
   "metadata": {
    "id": "5fef9108-f12c-4f38-808c-dc175d1bb6ae"
   },
   "outputs": [],
   "source": [
    "# Code for addition"
   ]
  },
  {
   "cell_type": "code",
   "execution_count": null,
   "id": "5debe2e3-12f6-471b-9c0d-68192bfb04d7",
   "metadata": {
    "id": "5debe2e3-12f6-471b-9c0d-68192bfb04d7",
    "outputId": "f0b6fba9-bf14-489d-b95a-25fcacd19caf"
   },
   "outputs": [
    {
     "name": "stdout",
     "output_type": "stream",
     "text": [
      "30\n",
      "200\n"
     ]
    }
   ],
   "source": [
    "# Code for addition\n",
    "a = 10 #Value of a is 10\n",
    "b = 20\n",
    "print(a+b)   #addition,\n",
    "print(a*b)           #multiplication\n",
    "print(a-b)            #substraction\n",
    "            #division"
   ]
  },
  {
   "cell_type": "code",
   "execution_count": null,
   "id": "1ca2252d",
   "metadata": {
    "id": "1ca2252d"
   },
   "outputs": [],
   "source": [
    "val2"
   ]
  },
  {
   "cell_type": "code",
   "execution_count": null,
   "id": "2f772d53",
   "metadata": {
    "id": "2f772d53"
   },
   "outputs": [],
   "source": [
    "# Multiple\n",
    "# line\n",
    "# comment\n",
    "val1 = 10\n"
   ]
  },
  {
   "cell_type": "code",
   "execution_count": 1,
   "id": "31a80171",
   "metadata": {
    "id": "31a80171"
   },
   "outputs": [],
   "source": [
    "'''\n",
    "bjsdhjwdkj\n",
    "Multiple line\n",
    "comment '''\n",
    "val1 = 10\n"
   ]
  },
  {
   "cell_type": "code",
   "execution_count": null,
   "id": "8f90d12c-d1a1-453f-9c57-e7cf82e50b66",
   "metadata": {
    "id": "8f90d12c-d1a1-453f-9c57-e7cf82e50b66",
    "outputId": "84d7c2c4-d5f4-449d-d3a9-480be90c0d2e"
   },
   "outputs": [
    {
     "data": {
      "text/plain": [
       "'data\\nscience'"
      ]
     },
     "execution_count": 11,
     "metadata": {},
     "output_type": "execute_result"
    }
   ],
   "source": [
    "'''data\n",
    "science'''"
   ]
  },
  {
   "cell_type": "code",
   "execution_count": null,
   "id": "81e8f264-40b4-43d0-82ae-2af9d376144a",
   "metadata": {
    "id": "81e8f264-40b4-43d0-82ae-2af9d376144a",
    "outputId": "edae9817-5ea1-4a79-8af0-b87c6151ec78"
   },
   "outputs": [
    {
     "name": "stdout",
     "output_type": "stream",
     "text": [
      "data \n",
      " science\n",
      "data \n",
      " science\n",
      "data \n",
      " science\n"
     ]
    }
   ],
   "source": [
    "s = 'data \\n science'\n",
    "print(s)\n",
    "print(s)\n",
    "print(s)"
   ]
  },
  {
   "cell_type": "code",
   "execution_count": null,
   "id": "636301af-3f2e-43a5-ada5-4275c7731f21",
   "metadata": {
    "id": "636301af-3f2e-43a5-ada5-4275c7731f21"
   },
   "outputs": [],
   "source": []
  },
  {
   "cell_type": "code",
   "execution_count": null,
   "id": "82c2177b-e184-4946-87f1-e70b2754daa9",
   "metadata": {
    "id": "82c2177b-e184-4946-87f1-e70b2754daa9",
    "outputId": "2a05064e-4ae1-499d-d854-813b843adf0d"
   },
   "outputs": [
    {
     "data": {
      "text/plain": [
       "'data \\n science'"
      ]
     },
     "execution_count": 44,
     "metadata": {},
     "output_type": "execute_result"
    }
   ],
   "source": [
    "s\n",
    "s"
   ]
  },
  {
   "cell_type": "code",
   "execution_count": null,
   "id": "2e10e922",
   "metadata": {
    "id": "2e10e922"
   },
   "outputs": [],
   "source": [
    "val1"
   ]
  },
  {
   "cell_type": "code",
   "execution_count": null,
   "id": "c700542b",
   "metadata": {
    "id": "c700542b"
   },
   "outputs": [],
   "source": [
    "\"\"\"\n",
    "Multiple line\n",
    "comment \"\"\"\n",
    "val1= 10\n"
   ]
  },
  {
   "cell_type": "markdown",
   "id": "a76869bd",
   "metadata": {
    "id": "a76869bd"
   },
   "source": [
    "# Statements"
   ]
  },
  {
   "cell_type": "markdown",
   "id": "8bf438c4",
   "metadata": {
    "id": "8bf438c4"
   },
   "source": [
    "* Instructions that a Python interpreter can execute."
   ]
  },
  {
   "cell_type": "code",
   "execution_count": null,
   "id": "d8e2649e",
   "metadata": {
    "id": "d8e2649e"
   },
   "outputs": [],
   "source": [
    "fdgdhdhdhdh"
   ]
  },
  {
   "cell_type": "code",
   "execution_count": null,
   "id": "7743442b",
   "metadata": {
    "id": "7743442b"
   },
   "outputs": [],
   "source": [
    "2+3"
   ]
  },
  {
   "cell_type": "code",
   "execution_count": null,
   "id": "49b580e9",
   "metadata": {
    "id": "49b580e9",
    "outputId": "1b114c29-6ade-4247-b060-fed0241199c7"
   },
   "outputs": [
    {
     "name": "stdout",
     "output_type": "stream",
     "text": [
      "['a', 'b', 'c', 'd', 'e']\n"
     ]
    }
   ],
   "source": [
    "# Single line statement\n",
    "p2 = ['a' , 'b' , 'c' , 'd', \"e\"]\n",
    "p2\n",
    "print(p2)"
   ]
  },
  {
   "cell_type": "code",
   "execution_count": null,
   "id": "0465af83",
   "metadata": {
    "id": "0465af83",
    "outputId": "ed8671e0-b620-4e13-ee8b-fa4794bb60cc"
   },
   "outputs": [
    {
     "data": {
      "text/plain": [
       "50"
      ]
     },
     "execution_count": 7,
     "metadata": {},
     "output_type": "execute_result"
    }
   ],
   "source": [
    "# Multiple line statement\n",
    "p1 = 20 + 30 \\\n",
    "+  40  +  50  \\\n",
    "+ 70 + 80\n",
    "p1\n"
   ]
  },
  {
   "cell_type": "markdown",
   "id": "a48922a0",
   "metadata": {
    "id": "a48922a0"
   },
   "source": [
    "# Variables"
   ]
  },
  {
   "cell_type": "markdown",
   "id": "33961071",
   "metadata": {
    "id": "33961071"
   },
   "source": [
    "*  A Python variable is a reserved memory location to store values.\n",
    "\n",
    "1.   List item\n",
    "2.   List item\n",
    "\n",
    "\n",
    "* A variable is created the moment you first assign a value to it.\n"
   ]
  },
  {
   "cell_type": "code",
   "execution_count": null,
   "id": "85427289",
   "metadata": {
    "id": "85427289"
   },
   "outputs": [],
   "source": [
    "k=30 ## variable creation"
   ]
  },
  {
   "cell_type": "code",
   "execution_count": null,
   "id": "3670495c",
   "metadata": {
    "id": "3670495c",
    "outputId": "f2a00957-2c9f-4bbb-ff83-b0438d2ad1b3"
   },
   "outputs": [
    {
     "data": {
      "text/plain": [
       "30"
      ]
     },
     "execution_count": 11,
     "metadata": {},
     "output_type": "execute_result"
    }
   ],
   "source": [
    "k ## calling of variable"
   ]
  },
  {
   "cell_type": "code",
   "execution_count": null,
   "id": "fd3cbba9",
   "metadata": {
    "id": "fd3cbba9",
    "outputId": "aac022bf-41cd-47e9-88fa-8dd412f207a1"
   },
   "outputs": [
    {
     "name": "stdout",
     "output_type": "stream",
     "text": [
      "30\n"
     ]
    }
   ],
   "source": [
    "print(k) ## print the variable"
   ]
  },
  {
   "cell_type": "code",
   "execution_count": null,
   "id": "961a694b-3e6f-40f2-aa55-26843cae3353",
   "metadata": {
    "id": "961a694b-3e6f-40f2-aa55-26843cae3353",
    "outputId": "35f5f185-e771-4d95-ffdf-6353d942bbe3"
   },
   "outputs": [
    {
     "name": "stdout",
     "output_type": "stream",
     "text": [
      "Value odf variable 30\n"
     ]
    }
   ],
   "source": [
    "print(\"Value of variable\", k)"
   ]
  },
  {
   "cell_type": "code",
   "execution_count": null,
   "id": "8b95293b-ba51-4d48-a951-2e4548b3e86d",
   "metadata": {
    "id": "8b95293b-ba51-4d48-a951-2e4548b3e86d",
    "outputId": "10325229-96fd-465f-cfbc-a6992c68e88c"
   },
   "outputs": [
    {
     "name": "stdout",
     "output_type": "stream",
     "text": [
      "Addition of a and b is  43\n"
     ]
    }
   ],
   "source": [
    "a = 18\n",
    "b = 25\n",
    "print(\"Addition of a and b is \", a+b)"
   ]
  },
  {
   "cell_type": "code",
   "execution_count": null,
   "id": "ad65dafa",
   "metadata": {
    "id": "ad65dafa",
    "outputId": "b5d67a7f-81c0-44d3-ab9e-11a15ac3bc60"
   },
   "outputs": [
    {
     "name": "stdout",
     "output_type": "stream",
     "text": [
      "This is print function\n"
     ]
    }
   ],
   "source": [
    "print('This is print function')"
   ]
  },
  {
   "cell_type": "code",
   "execution_count": null,
   "id": "f758df5c",
   "metadata": {
    "id": "f758df5c",
    "outputId": "a7e24f15-e382-48d3-abcd-fdd55fcf6751"
   },
   "outputs": [
    {
     "name": "stdout",
     "output_type": "stream",
     "text": [
      "This is print function with double quotes\n"
     ]
    }
   ],
   "source": [
    "print(\"This is print function with double quotes\")"
   ]
  },
  {
   "cell_type": "code",
   "execution_count": null,
   "id": "ace0954e",
   "metadata": {
    "id": "ace0954e",
    "outputId": "63e38f24-9236-4194-dd1e-2bf60817119e"
   },
   "outputs": [
    {
     "name": "stdout",
     "output_type": "stream",
     "text": [
      "12\n"
     ]
    }
   ],
   "source": [
    "print(12)"
   ]
  },
  {
   "cell_type": "code",
   "execution_count": null,
   "id": "fdc032dd",
   "metadata": {
    "id": "fdc032dd",
    "outputId": "d19201da-5fe7-4b65-8c9f-9c721681b01f"
   },
   "outputs": [
    {
     "name": "stdout",
     "output_type": "stream",
     "text": [
      "b\n"
     ]
    }
   ],
   "source": [
    "print(\"b\")"
   ]
  },
  {
   "cell_type": "code",
   "execution_count": null,
   "id": "016fda5e",
   "metadata": {
    "id": "016fda5e",
    "outputId": "77e66026-778a-492b-8024-0bca079b79a3"
   },
   "outputs": [
    {
     "data": {
      "text/plain": [
       "int"
      ]
     },
     "execution_count": 25,
     "metadata": {},
     "output_type": "execute_result"
    }
   ],
   "source": [
    "type(k) # To know the datatype of python objects"
   ]
  },
  {
   "cell_type": "code",
   "execution_count": null,
   "id": "dd40801d-9f39-4d4f-a548-447032a5659f",
   "metadata": {
    "id": "dd40801d-9f39-4d4f-a548-447032a5659f",
    "outputId": "11c7a05e-cade-4612-b1fd-7e3bd5695180"
   },
   "outputs": [
    {
     "name": "stdout",
     "output_type": "stream",
     "text": [
      "23 <class 'int'>\n"
     ]
    }
   ],
   "source": [
    "a = 23\n",
    "print(a, type(a))"
   ]
  },
  {
   "cell_type": "code",
   "execution_count": null,
   "id": "7284b6da-a03e-4853-86ff-4e5f1c94f83f",
   "metadata": {
    "id": "7284b6da-a03e-4853-86ff-4e5f1c94f83f",
    "outputId": "6d273824-9a70-437c-8747-ef5f41da05ae"
   },
   "outputs": [
    {
     "name": "stdout",
     "output_type": "stream",
     "text": [
      "23.5 <class 'float'>\n"
     ]
    }
   ],
   "source": [
    "a = 23.5\n",
    "print(a, type(a))"
   ]
  },
  {
   "cell_type": "code",
   "execution_count": null,
   "id": "ce294f81-c104-4a6a-971f-03022d816b52",
   "metadata": {
    "id": "ce294f81-c104-4a6a-971f-03022d816b52",
    "outputId": "6bb40b33-da66-4a3d-ea6a-fb500a8fd522"
   },
   "outputs": [
    {
     "name": "stdout",
     "output_type": "stream",
     "text": [
      "(23+4j) <class 'complex'>\n"
     ]
    }
   ],
   "source": [
    "a = 23 + 4j\n",
    "print(a, type(a))"
   ]
  },
  {
   "cell_type": "code",
   "execution_count": null,
   "id": "98af36cc",
   "metadata": {
    "id": "98af36cc"
   },
   "outputs": [],
   "source": [
    "b=35.5"
   ]
  },
  {
   "cell_type": "code",
   "execution_count": null,
   "id": "1e4f25f9-4dda-4add-bc52-262f466bfe5b",
   "metadata": {
    "id": "1e4f25f9-4dda-4add-bc52-262f466bfe5b"
   },
   "outputs": [],
   "source": []
  },
  {
   "cell_type": "code",
   "execution_count": null,
   "id": "c2f1ec0d",
   "metadata": {
    "id": "c2f1ec0d",
    "outputId": "06d09442-5a93-4cb5-c911-bf314022d59a"
   },
   "outputs": [
    {
     "data": {
      "text/plain": [
       "float"
      ]
     },
     "execution_count": 27,
     "metadata": {},
     "output_type": "execute_result"
    }
   ],
   "source": [
    "type(b)"
   ]
  },
  {
   "cell_type": "code",
   "execution_count": null,
   "id": "14026be1",
   "metadata": {
    "id": "14026be1",
    "outputId": "70cead4e-dffe-4c95-c9c5-dde582edd10e"
   },
   "outputs": [
    {
     "name": "stdout",
     "output_type": "stream",
     "text": [
      "<class 'bool'>\n",
      "<class 'bool'>\n"
     ]
    }
   ],
   "source": [
    "c = True\n",
    "a = False\n",
    "print(type(c))\n",
    "print(type(a))\n",
    "# print(type(k))"
   ]
  },
  {
   "cell_type": "code",
   "execution_count": null,
   "id": "fcdefe0b",
   "metadata": {
    "id": "fcdefe0b",
    "outputId": "7d2d757f-9fc9-48a9-b0e0-3c8cf9eda4d3"
   },
   "outputs": [
    {
     "data": {
      "text/plain": [
       "str"
      ]
     },
     "execution_count": 31,
     "metadata": {},
     "output_type": "execute_result"
    }
   ],
   "source": [
    "d=\"abcs\"\n",
    "type(d)"
   ]
  },
  {
   "cell_type": "code",
   "execution_count": null,
   "id": "ec423446-65d9-436a-9d6f-306421a36e1f",
   "metadata": {
    "id": "ec423446-65d9-436a-9d6f-306421a36e1f",
    "outputId": "1a47c261-d25d-430a-9b28-3fe5211dd0e1"
   },
   "outputs": [
    {
     "name": "stdout",
     "output_type": "stream",
     "text": [
      "2795079598608\n"
     ]
    }
   ],
   "source": [
    "a = 10\n",
    "print(id(a))"
   ]
  },
  {
   "cell_type": "code",
   "execution_count": null,
   "id": "16c0ac1b-d593-487e-a893-a42effd25870",
   "metadata": {
    "id": "16c0ac1b-d593-487e-a893-a42effd25870",
    "outputId": "d8dd55f2-fb56-4581-aef5-f4421948fb9a"
   },
   "outputs": [
    {
     "name": "stdout",
     "output_type": "stream",
     "text": [
      "2795079598928\n"
     ]
    }
   ],
   "source": [
    "b = 20\n",
    "print(id(b))"
   ]
  },
  {
   "cell_type": "code",
   "execution_count": null,
   "id": "72d014f3-7763-4d72-aa3b-a2c91edf9606",
   "metadata": {
    "id": "72d014f3-7763-4d72-aa3b-a2c91edf9606",
    "outputId": "e4b25a88-65ac-46be-8ffa-43999c25aa05"
   },
   "outputs": [
    {
     "name": "stdout",
     "output_type": "stream",
     "text": [
      "2795079598608\n"
     ]
    }
   ],
   "source": [
    "abc = 10\n",
    "print(id(abc))"
   ]
  },
  {
   "cell_type": "markdown",
   "id": "c4e3a2d2",
   "metadata": {
    "id": "c4e3a2d2"
   },
   "source": [
    "## Variable Assignment"
   ]
  },
  {
   "cell_type": "code",
   "execution_count": null,
   "id": "f1edd671-378b-4e72-acb0-8deae2cfa5df",
   "metadata": {
    "id": "f1edd671-378b-4e72-acb0-8deae2cfa5df",
    "outputId": "f4c08e17-7f55-4ca1-9867-52ca86e9bd54"
   },
   "outputs": [
    {
     "name": "stdout",
     "output_type": "stream",
     "text": [
      "abcs\n"
     ]
    }
   ],
   "source": [
    "print(d)"
   ]
  },
  {
   "cell_type": "code",
   "execution_count": null,
   "id": "f741d376",
   "metadata": {
    "id": "f741d376",
    "outputId": "70d7afd0-981a-4012-8406-01bcd6c46d44",
    "scrolled": true
   },
   "outputs": [
    {
     "name": "stdout",
     "output_type": "stream",
     "text": [
      "10\n",
      "2.57\n",
      "Python Language\n"
     ]
    }
   ],
   "source": [
    "intvar = 10 # Integer variable\n",
    "floatvar = 2.57 # Float Variable\n",
    "strvar = \"Python Language\" # String variable\n",
    "print(intvar)\n",
    "print(floatvar)\n",
    "print(strvar)"
   ]
  },
  {
   "cell_type": "code",
   "execution_count": null,
   "id": "6beb4bbf-8560-4808-a382-af2d2b69b316",
   "metadata": {
    "id": "6beb4bbf-8560-4808-a382-af2d2b69b316",
    "outputId": "e2145f0b-c56a-4f73-86d6-303a98c63978"
   },
   "outputs": [
    {
     "name": "stdout",
     "output_type": "stream",
     "text": [
      "data science <class 'str'>\n"
     ]
    }
   ],
   "source": [
    "s = \"data science\"\n",
    "print(s, type(s))"
   ]
  },
  {
   "cell_type": "code",
   "execution_count": null,
   "id": "4ceb705b-fde1-40be-a02e-99fbfb9a257e",
   "metadata": {
    "id": "4ceb705b-fde1-40be-a02e-99fbfb9a257e",
    "outputId": "c8a85e30-bc96-499a-c065-c9694f42473d"
   },
   "outputs": [
    {
     "name": "stdout",
     "output_type": "stream",
     "text": [
      "<class 'float'>\n"
     ]
    }
   ],
   "source": [
    "a = 10.0\n",
    "print(type(a))"
   ]
  },
  {
   "cell_type": "code",
   "execution_count": null,
   "id": "19475882-34cc-411e-9195-a7d31772af20",
   "metadata": {
    "id": "19475882-34cc-411e-9195-a7d31772af20",
    "outputId": "635cd25b-ad81-4f9b-c78e-e8c29b0a84bf"
   },
   "outputs": [
    {
     "name": "stdout",
     "output_type": "stream",
     "text": [
      "<class 'int'>\n"
     ]
    }
   ],
   "source": [
    "a = 10\n",
    "print(type(a))"
   ]
  },
  {
   "cell_type": "code",
   "execution_count": null,
   "id": "bd611ce8-5304-4d09-9c4e-25317de55eaf",
   "metadata": {
    "id": "bd611ce8-5304-4d09-9c4e-25317de55eaf",
    "outputId": "9cd1757c-f330-4f5f-e6c1-c582b56b373b"
   },
   "outputs": [
    {
     "name": "stdout",
     "output_type": "stream",
     "text": [
      "<class 'str'>\n"
     ]
    }
   ],
   "source": [
    "a = \"10.0\"\n",
    "print(type(a))"
   ]
  },
  {
   "cell_type": "code",
   "execution_count": null,
   "id": "f9ac9cdf-d33f-410c-802d-46bb3cd9b9ee",
   "metadata": {
    "id": "f9ac9cdf-d33f-410c-802d-46bb3cd9b9ee",
    "outputId": "a64ba315-4aa6-49e7-cff1-1e649cd26226"
   },
   "outputs": [
    {
     "data": {
      "text/plain": [
       "str"
      ]
     },
     "execution_count": 26,
     "metadata": {},
     "output_type": "execute_result"
    }
   ],
   "source": [
    "s = \"#$%^&&^^T&^&^&^R^R&*Y*&\"\n",
    "type(s)"
   ]
  },
  {
   "cell_type": "code",
   "execution_count": null,
   "id": "32ef7204-ac57-42f2-997c-6eb4f1561151",
   "metadata": {
    "id": "32ef7204-ac57-42f2-997c-6eb4f1561151",
    "outputId": "1b533a22-5e63-4292-ec70-cc57270529e4"
   },
   "outputs": [
    {
     "name": "stdout",
     "output_type": "stream",
     "text": [
      "2795195406192\n"
     ]
    }
   ],
   "source": [
    "a = 10\n",
    "a = 2.3\n",
    "a = \"hsgdwdu\"\n",
    "print(id(a))"
   ]
  },
  {
   "cell_type": "markdown",
   "id": "aff84426",
   "metadata": {
    "id": "aff84426"
   },
   "source": [
    "# Multiple Assignment\n",
    "\n",
    "---\n",
    "\n"
   ]
  },
  {
   "cell_type": "code",
   "execution_count": null,
   "id": "d4683b2a",
   "metadata": {
    "id": "d4683b2a",
    "outputId": "102aab78-1889-43f1-bf34-97ec243c0678",
    "scrolled": true
   },
   "outputs": [
    {
     "name": "stdout",
     "output_type": "stream",
     "text": [
      "10\n",
      "2.57\n",
      "Python Language\n"
     ]
    }
   ],
   "source": [
    "intvar , floatvar , strvar = 10,2.57,\"Python Language\"\n",
    "# Using commas to separate variables\n",
    "print(intvar)\n",
    "print(floatvar)\n",
    "print(strvar)"
   ]
  },
  {
   "cell_type": "code",
   "execution_count": null,
   "id": "f486c066",
   "metadata": {
    "id": "f486c066",
    "outputId": "bc029feb-1611-4169-aace-d76f493fb52e"
   },
   "outputs": [
    {
     "name": "stdout",
     "output_type": "stream",
     "text": [
      "Values for variables are as : 10 2.57 Python Language\n"
     ]
    }
   ],
   "source": [
    "print(\"Values for variables are as :\",intvar,floatvar,strvar)"
   ]
  },
  {
   "cell_type": "code",
   "execution_count": null,
   "id": "1644ff55",
   "metadata": {
    "id": "1644ff55",
    "outputId": "9ff66c62-c3d4-44d9-a419-f9a470b5a414",
    "scrolled": true
   },
   "outputs": [
    {
     "name": "stdout",
     "output_type": "stream",
     "text": [
      "44 44 44 44\n"
     ]
    }
   ],
   "source": [
    "p1 = p2 = p3 = p4 = 44\n",
    "# All variables pointing to same value\n",
    "print(p1,p2,p3,p4)"
   ]
  },
  {
   "cell_type": "markdown",
   "id": "37f99688",
   "metadata": {
    "id": "37f99688"
   },
   "source": [
    "# Data Types"
   ]
  },
  {
   "cell_type": "markdown",
   "id": "5a9a8cd3",
   "metadata": {
    "id": "5a9a8cd3"
   },
   "source": [
    "## Numeric"
   ]
  },
  {
   "cell_type": "code",
   "execution_count": null,
   "id": "3217d802",
   "metadata": {
    "id": "3217d802"
   },
   "outputs": [],
   "source": [
    "import sys"
   ]
  },
  {
   "cell_type": "code",
   "execution_count": null,
   "id": "2fa04823",
   "metadata": {
    "colab": {
     "base_uri": "https://localhost:8080/"
    },
    "executionInfo": {
     "elapsed": 6,
     "status": "ok",
     "timestamp": 1696742969825,
     "user": {
      "displayName": "Rama Chandra Kotturu",
      "userId": "02243285469857073193"
     },
     "user_tz": -330
    },
    "id": "2fa04823",
    "outputId": "f993dd81-c7af-4ede-db2b-00cf212e2473"
   },
   "outputs": [
    {
     "name": "stdout",
     "output_type": "stream",
     "text": [
      "92.78\n",
      "<class 'float'>\n",
      "24\n",
      "92.78 is that float? True\n"
     ]
    }
   ],
   "source": [
    "val2 = 92.78 # Float data type\n",
    "print(val2)\n",
    "print(type(val2)) # type of object\n",
    "print(sys.getsizeof(val2)) # size of float object in bytes\n",
    "print(val2, \"is that float?\", isinstance(val2, float)) # Val2 is an instance of float"
   ]
  },
  {
   "cell_type": "code",
   "execution_count": null,
   "id": "61eda00f",
   "metadata": {
    "id": "61eda00f",
    "outputId": "b46970b5-1f00-400b-c077-b0238ce9e5c9"
   },
   "outputs": [
    {
     "name": "stdout",
     "output_type": "stream",
     "text": [
      "(25+0j)\n",
      "<class 'complex'>\n",
      "32\n",
      "(25+0j)  is complex? True\n"
     ]
    }
   ],
   "source": [
    "val3 = 25 + 0j # Complex data type\n",
    "print(val3)\n",
    "print(type(val3)) # type of object\n",
    "print(sys.getsizeof(val3)) # size of float object in bytes\n",
    "print(val3, \" is complex?\", isinstance(val3, complex)) # val3 is an instance of complex"
   ]
  },
  {
   "cell_type": "markdown",
   "id": "d7c74ac7",
   "metadata": {
    "id": "d7c74ac7"
   },
   "source": [
    "## Boolean\n",
    "\n"
   ]
  },
  {
   "cell_type": "markdown",
   "id": "807bb3c7",
   "metadata": {
    "id": "807bb3c7"
   },
   "source": [
    "* Boolean data type can have only two possible values true or false."
   ]
  },
  {
   "cell_type": "code",
   "execution_count": null,
   "id": "052cf431",
   "metadata": {
    "id": "052cf431"
   },
   "outputs": [],
   "source": [
    "bool1=True"
   ]
  },
  {
   "cell_type": "code",
   "execution_count": null,
   "id": "9cb97c89",
   "metadata": {
    "id": "9cb97c89"
   },
   "outputs": [],
   "source": [
    "bool2=False"
   ]
  },
  {
   "cell_type": "code",
   "execution_count": null,
   "id": "0f453174",
   "metadata": {
    "id": "0f453174",
    "outputId": "a053ad1e-0bdb-4bc8-e280-f64ac6d107af"
   },
   "outputs": [
    {
     "data": {
      "text/plain": [
       "bool"
      ]
     },
     "execution_count": 65,
     "metadata": {},
     "output_type": "execute_result"
    }
   ],
   "source": [
    "type(bool1)"
   ]
  },
  {
   "cell_type": "code",
   "execution_count": null,
   "id": "73b1c02d-1418-4785-b045-09e2e6e450eb",
   "metadata": {
    "id": "73b1c02d-1418-4785-b045-09e2e6e450eb",
    "outputId": "080bc149-24f4-4108-f3e1-36bc384adacf"
   },
   "outputs": [
    {
     "data": {
      "text/plain": [
       "True"
      ]
     },
     "execution_count": 67,
     "metadata": {},
     "output_type": "execute_result"
    }
   ],
   "source": [
    "isinstance(bool1, int)"
   ]
  },
  {
   "cell_type": "code",
   "execution_count": null,
   "id": "xLCOsbTTQn8-",
   "metadata": {
    "id": "xLCOsbTTQn8-",
    "outputId": "33c85f19-704a-4bda-cb64-6dbe92334273"
   },
   "outputs": [
    {
     "data": {
      "text/plain": [
       "False"
      ]
     },
     "execution_count": 68,
     "metadata": {},
     "output_type": "execute_result"
    }
   ],
   "source": [
    "isinstance(bool1, float)"
   ]
  },
  {
   "cell_type": "code",
   "execution_count": null,
   "id": "674b71c1-c293-40ef-a29a-d7486a98fc4a",
   "metadata": {
    "id": "674b71c1-c293-40ef-a29a-d7486a98fc4a",
    "outputId": "e6cbf5db-3b55-4b25-a886-09eab06bf03f"
   },
   "outputs": [
    {
     "data": {
      "text/plain": [
       "True"
      ]
     },
     "execution_count": 69,
     "metadata": {},
     "output_type": "execute_result"
    }
   ],
   "source": [
    "isinstance(bool1, int)"
   ]
  },
  {
   "cell_type": "code",
   "execution_count": null,
   "id": "6211346a",
   "metadata": {
    "id": "6211346a",
    "outputId": "94545550-b30e-4720-9eed-ecdf96a2def5"
   },
   "outputs": [
    {
     "data": {
      "text/plain": [
       "True"
      ]
     },
     "execution_count": 70,
     "metadata": {},
     "output_type": "execute_result"
    }
   ],
   "source": [
    "isinstance(bool1, bool)"
   ]
  },
  {
   "cell_type": "code",
   "execution_count": null,
   "id": "8c600c49",
   "metadata": {
    "id": "8c600c49",
    "outputId": "3d5309db-4b1c-4b83-8cfc-c4a10627b976"
   },
   "outputs": [
    {
     "data": {
      "text/plain": [
       "False"
      ]
     },
     "execution_count": 71,
     "metadata": {},
     "output_type": "execute_result"
    }
   ],
   "source": [
    "bool(0)"
   ]
  },
  {
   "cell_type": "code",
   "execution_count": null,
   "id": "5623573b-91c7-4ff3-bc6d-d2943849159e",
   "metadata": {
    "id": "5623573b-91c7-4ff3-bc6d-d2943849159e"
   },
   "outputs": [],
   "source": [
    "# a = 1\n",
    "a = True"
   ]
  },
  {
   "cell_type": "code",
   "execution_count": null,
   "id": "01675273-aab4-4d0a-991f-79beb0d715ff",
   "metadata": {
    "id": "01675273-aab4-4d0a-991f-79beb0d715ff",
    "outputId": "908b10e5-0dcf-42ca-d90c-1a8e0f1d13ca"
   },
   "outputs": [
    {
     "data": {
      "text/plain": [
       "140726398613712"
      ]
     },
     "execution_count": 77,
     "metadata": {},
     "output_type": "execute_result"
    }
   ],
   "source": [
    "id(a)"
   ]
  },
  {
   "cell_type": "code",
   "execution_count": null,
   "id": "14c739ee-6a61-4cd9-b988-41a5bb84b394",
   "metadata": {
    "id": "14c739ee-6a61-4cd9-b988-41a5bb84b394",
    "outputId": "dc5a6e33-aa8c-4b3a-d9be-140d691fbf6e"
   },
   "outputs": [
    {
     "data": {
      "text/plain": [
       "(10+0j)"
      ]
     },
     "execution_count": 126,
     "metadata": {},
     "output_type": "execute_result"
    }
   ],
   "source": [
    "a = \"10\"\n",
    "int(a)\n",
    "float(a)\n",
    "complex(a)"
   ]
  },
  {
   "cell_type": "code",
   "execution_count": null,
   "id": "ca32f1ce-bd70-4040-a247-8e94bd287536",
   "metadata": {
    "id": "ca32f1ce-bd70-4040-a247-8e94bd287536",
    "outputId": "8d3e56d4-f13c-48cc-c69f-e39c9a35288f"
   },
   "outputs": [
    {
     "name": "stdout",
     "output_type": "stream",
     "text": [
      "10 <class 'int'>\n",
      "10.0 <class 'float'>\n"
     ]
    }
   ],
   "source": [
    "a = 10\n",
    "print(a, type(a))\n",
    "b = float(a)\n",
    "print(b, type(b))   # int to float possible"
   ]
  },
  {
   "cell_type": "code",
   "execution_count": null,
   "id": "fc9b9286-c1d6-469f-a7b6-128829c5702a",
   "metadata": {
    "id": "fc9b9286-c1d6-469f-a7b6-128829c5702a",
    "outputId": "973d3302-9235-40a4-b4cc-1474e5c00e11"
   },
   "outputs": [
    {
     "name": "stdout",
     "output_type": "stream",
     "text": [
      "10 <class 'int'>\n",
      "(10+0j) <class 'complex'>\n"
     ]
    }
   ],
   "source": [
    "a = 10\n",
    "print(a, type(a))\n",
    "b = complex(a)\n",
    "print(b, type(b)) # int to complex possible"
   ]
  },
  {
   "cell_type": "code",
   "execution_count": null,
   "id": "ec802c18-c4eb-404a-86d9-b5b095754ec6",
   "metadata": {
    "id": "ec802c18-c4eb-404a-86d9-b5b095754ec6",
    "outputId": "6540beb8-59cf-4ea3-975e-80a604a33f4c"
   },
   "outputs": [
    {
     "name": "stdout",
     "output_type": "stream",
     "text": [
      "10.5 <class 'float'>\n",
      "10 <class 'int'>\n"
     ]
    }
   ],
   "source": [
    "a = 10.5\n",
    "print(a, type(a))\n",
    "b = int(a)\n",
    "print(b, type(b)) # float to int possible"
   ]
  },
  {
   "cell_type": "code",
   "execution_count": null,
   "id": "691a11d6-8c29-4207-bdc7-6918352ac1c4",
   "metadata": {
    "id": "691a11d6-8c29-4207-bdc7-6918352ac1c4",
    "outputId": "5ce10fa5-c42d-49c9-b250-4b47908f19d0"
   },
   "outputs": [
    {
     "name": "stdout",
     "output_type": "stream",
     "text": [
      "10.5 <class 'float'>\n",
      "(10.5+0j) <class 'complex'>\n"
     ]
    }
   ],
   "source": [
    "a = 10.5\n",
    "print(a, type(a))\n",
    "b = complex(a)\n",
    "print(b, type(b)) # float to complex possible"
   ]
  },
  {
   "cell_type": "code",
   "execution_count": null,
   "id": "8446cb4d-cb97-4698-86f3-7831c8e93568",
   "metadata": {
    "id": "8446cb4d-cb97-4698-86f3-7831c8e93568",
    "outputId": "22e18021-8596-4f83-b43c-287fcf751f24"
   },
   "outputs": [
    {
     "name": "stdout",
     "output_type": "stream",
     "text": [
      "(10+5j) <class 'complex'>\n"
     ]
    },
    {
     "ename": "TypeError",
     "evalue": "int() argument must be a string, a bytes-like object or a real number, not 'complex'",
     "output_type": "error",
     "traceback": [
      "\u001b[1;31m---------------------------------------------------------------------------\u001b[0m",
      "\u001b[1;31mTypeError\u001b[0m                                 Traceback (most recent call last)",
      "Cell \u001b[1;32mIn[37], line 3\u001b[0m\n\u001b[0;32m      1\u001b[0m a \u001b[38;5;241m=\u001b[39m \u001b[38;5;241m10\u001b[39m \u001b[38;5;241m+\u001b[39m \u001b[38;5;241m5\u001b[39mj\n\u001b[0;32m      2\u001b[0m \u001b[38;5;28mprint\u001b[39m(a, \u001b[38;5;28mtype\u001b[39m(a))\n\u001b[1;32m----> 3\u001b[0m b \u001b[38;5;241m=\u001b[39m \u001b[38;5;28;43mint\u001b[39;49m\u001b[43m(\u001b[49m\u001b[43ma\u001b[49m\u001b[43m)\u001b[49m\n\u001b[0;32m      4\u001b[0m \u001b[38;5;28mprint\u001b[39m(b, \u001b[38;5;28mtype\u001b[39m(b))\n",
      "\u001b[1;31mTypeError\u001b[0m: int() argument must be a string, a bytes-like object or a real number, not 'complex'"
     ]
    }
   ],
   "source": [
    "a = 10 + 5j\n",
    "print(a, type(a))\n",
    "b = int(a)\n",
    "print(b, type(b)) # complex to int not possible"
   ]
  },
  {
   "cell_type": "code",
   "execution_count": null,
   "id": "8d9910a9-2f7a-4380-9a7b-514ce4437965",
   "metadata": {
    "id": "8d9910a9-2f7a-4380-9a7b-514ce4437965",
    "outputId": "031be643-c1b3-4e76-eecc-9df68560acc4"
   },
   "outputs": [
    {
     "name": "stdout",
     "output_type": "stream",
     "text": [
      "(10+5j) <class 'complex'>\n"
     ]
    },
    {
     "ename": "TypeError",
     "evalue": "int() argument must be a string, a bytes-like object or a real number, not 'complex'",
     "output_type": "error",
     "traceback": [
      "\u001b[1;31m---------------------------------------------------------------------------\u001b[0m",
      "\u001b[1;31mTypeError\u001b[0m                                 Traceback (most recent call last)",
      "Cell \u001b[1;32mIn[38], line 3\u001b[0m\n\u001b[0;32m      1\u001b[0m a \u001b[38;5;241m=\u001b[39m \u001b[38;5;241m10\u001b[39m \u001b[38;5;241m+\u001b[39m \u001b[38;5;241m5\u001b[39mj\n\u001b[0;32m      2\u001b[0m \u001b[38;5;28mprint\u001b[39m(a, \u001b[38;5;28mtype\u001b[39m(a))\n\u001b[1;32m----> 3\u001b[0m b \u001b[38;5;241m=\u001b[39m \u001b[38;5;28;43mint\u001b[39;49m\u001b[43m(\u001b[49m\u001b[43ma\u001b[49m\u001b[43m)\u001b[49m\n\u001b[0;32m      4\u001b[0m \u001b[38;5;28mprint\u001b[39m(b, \u001b[38;5;28mtype\u001b[39m(b))\n",
      "\u001b[1;31mTypeError\u001b[0m: int() argument must be a string, a bytes-like object or a real number, not 'complex'"
     ]
    }
   ],
   "source": [
    "a = 10 + 5j\n",
    "print(a, type(a))\n",
    "b = int(a)\n",
    "print(b, type(b)) # complex to float not possible"
   ]
  },
  {
   "cell_type": "markdown",
   "id": "b40a9db7",
   "metadata": {
    "id": "b40a9db7"
   },
   "source": [
    "## String"
   ]
  },
  {
   "cell_type": "code",
   "execution_count": null,
   "id": "4cf6a1a4-bbae-4f84-9e1c-d91b52e4cdb3",
   "metadata": {
    "id": "4cf6a1a4-bbae-4f84-9e1c-d91b52e4cdb3"
   },
   "outputs": [],
   "source": [
    "\"True\"\n",
    "True"
   ]
  },
  {
   "cell_type": "markdown",
   "id": "6580adac",
   "metadata": {
    "id": "6580adac"
   },
   "source": [
    "###  String creation\n",
    "\n",
    "> Add blockquote\n",
    "\n"
   ]
  },
  {
   "cell_type": "code",
   "execution_count": null,
   "id": "54346673",
   "metadata": {
    "id": "54346673",
    "outputId": "b82b4646-7918-4169-bffb-658c78f0b53d"
   },
   "outputs": [
    {
     "name": "stdout",
     "output_type": "stream",
     "text": [
      "HELLO PYTHON\n"
     ]
    }
   ],
   "source": [
    "str1 = \"HELLO PYTHON\"\n",
    "print(str1)"
   ]
  },
  {
   "cell_type": "code",
   "execution_count": null,
   "id": "9fb061a9-20ca-462c-8f53-adff519f86a0",
   "metadata": {
    "id": "9fb061a9-20ca-462c-8f53-adff519f86a0",
    "outputId": "7d5f58be-8257-4808-aa1d-541416cde306"
   },
   "outputs": [
    {
     "name": "stdout",
     "output_type": "stream",
     "text": [
      "123344 <class 'str'>\n"
     ]
    }
   ],
   "source": [
    "s = '123344'\n",
    "print(s, type(s))"
   ]
  },
  {
   "cell_type": "code",
   "execution_count": null,
   "id": "22c18d14-a3b1-4239-83a8-60b5620cfaff",
   "metadata": {
    "id": "22c18d14-a3b1-4239-83a8-60b5620cfaff",
    "outputId": "047f8741-bc3b-4a74-fada-0ab01ede57e3"
   },
   "outputs": [
    {
     "data": {
      "text/plain": [
       "10"
      ]
     },
     "execution_count": 47,
     "metadata": {},
     "output_type": "execute_result"
    }
   ],
   "source": [
    "s = \"10\"\n",
    "a = int(s)\n",
    "a"
   ]
  },
  {
   "cell_type": "code",
   "execution_count": null,
   "id": "fc9667b9-0512-4a8a-bb9a-922ae6d8fe2c",
   "metadata": {
    "id": "fc9667b9-0512-4a8a-bb9a-922ae6d8fe2c",
    "outputId": "7c62d76a-75b3-4d54-b2f9-a21f7c3794da"
   },
   "outputs": [
    {
     "ename": "ValueError",
     "evalue": "invalid literal for int() with base 10: 'abc'",
     "output_type": "error",
     "traceback": [
      "\u001b[1;31m---------------------------------------------------------------------------\u001b[0m",
      "\u001b[1;31mValueError\u001b[0m                                Traceback (most recent call last)",
      "Cell \u001b[1;32mIn[48], line 2\u001b[0m\n\u001b[0;32m      1\u001b[0m s \u001b[38;5;241m=\u001b[39m \u001b[38;5;124m\"\u001b[39m\u001b[38;5;124mabc\u001b[39m\u001b[38;5;124m\"\u001b[39m\n\u001b[1;32m----> 2\u001b[0m a \u001b[38;5;241m=\u001b[39m \u001b[38;5;28;43mint\u001b[39;49m\u001b[43m(\u001b[49m\u001b[43ms\u001b[49m\u001b[43m)\u001b[49m\n\u001b[0;32m      3\u001b[0m a\n",
      "\u001b[1;31mValueError\u001b[0m: invalid literal for int() with base 10: 'abc'"
     ]
    }
   ],
   "source": [
    "s = \"abc\"\n",
    "a = int(s)\n",
    "a"
   ]
  },
  {
   "cell_type": "code",
   "execution_count": null,
   "id": "3a4045c8-4829-4b65-896b-82f549809a61",
   "metadata": {
    "id": "3a4045c8-4829-4b65-896b-82f549809a61",
    "outputId": "a27bd442-f90b-4475-be77-0dc360cf0a76"
   },
   "outputs": [
    {
     "data": {
      "text/plain": [
       "'Data science is the study of data to gain insights that can help businesses\\nmake decisions'"
      ]
     },
     "execution_count": 52,
     "metadata": {},
     "output_type": "execute_result"
    }
   ],
   "source": [
    "s = '''Data science is the study of data to gain insights that can help businesses\n",
    "make decisions'''\n",
    "s"
   ]
  },
  {
   "cell_type": "code",
   "execution_count": null,
   "id": "03493ed2-3b69-4c8d-b37c-2678cfce8555",
   "metadata": {
    "id": "03493ed2-3b69-4c8d-b37c-2678cfce8555"
   },
   "outputs": [],
   "source": []
  },
  {
   "cell_type": "code",
   "execution_count": null,
   "id": "0335e2a3-9646-4b2a-b3ed-7feb8f649ace",
   "metadata": {
    "id": "0335e2a3-9646-4b2a-b3ed-7feb8f649ace",
    "outputId": "92630e4c-ea53-4e76-b81f-48e7fd8dce81"
   },
   "outputs": [
    {
     "data": {
      "text/plain": [
       "'Data science is the study of data to gain insights that can help businesses\\nmake decisions. It combines principles from statistics, mathematics, computer engineering,\\nand artificial intelligence.'"
      ]
     },
     "execution_count": 81,
     "metadata": {},
     "output_type": "execute_result"
    }
   ],
   "source": [
    "s1 = \"\"\"Data science is the study of data to gain insights that can help businesses\n",
    "make decisions. It combines principles from statistics, mathematics, computer engineering,\n",
    "and artificial intelligence.\"\"\"\n",
    "s1"
   ]
  },
  {
   "cell_type": "code",
   "execution_count": null,
   "id": "39468a7e-b595-45a7-b210-060d77b059bb",
   "metadata": {
    "id": "39468a7e-b595-45a7-b210-060d77b059bb",
    "outputId": "357d94c3-48e8-499b-cafa-151501ce27ef"
   },
   "outputs": [
    {
     "name": "stdout",
     "output_type": "stream",
     "text": [
      "Data science is the study of data to gain insights that can help businesses\n",
      "make decisions. It combines principles from statistics, mathematics, computer engineering,\n",
      "and artificial intelligence.\n"
     ]
    }
   ],
   "source": [
    "print(s1)"
   ]
  },
  {
   "cell_type": "code",
   "execution_count": null,
   "id": "6e536482-8a7f-4118-a034-a1ae807c2abf",
   "metadata": {
    "id": "6e536482-8a7f-4118-a034-a1ae807c2abf"
   },
   "outputs": [],
   "source": [
    "s1 = \"Data science is the study of data to gain insights that can help businesses \\n\n",
    "\\n make decisions. It combines principles from statistics, mathematics, computer engineering,\\n\n",
    "and artificial intelligence.\""
   ]
  },
  {
   "cell_type": "code",
   "execution_count": null,
   "id": "d30cd51d-b810-4a81-836a-914b18bbdcd1",
   "metadata": {
    "id": "d30cd51d-b810-4a81-836a-914b18bbdcd1"
   },
   "outputs": [],
   "source": []
  },
  {
   "cell_type": "code",
   "execution_count": null,
   "id": "79d8cbfc-752e-4931-9d8b-b745e5ebdf0c",
   "metadata": {
    "id": "79d8cbfc-752e-4931-9d8b-b745e5ebdf0c"
   },
   "outputs": [],
   "source": []
  },
  {
   "cell_type": "code",
   "execution_count": null,
   "id": "34012e79",
   "metadata": {
    "id": "34012e79",
    "outputId": "85de4802-a767-46f0-a4a8-2ecd0a1abdc9"
   },
   "outputs": [
    {
     "name": "stdout",
     "output_type": "stream",
     "text": [
      "Hello World\n"
     ]
    }
   ],
   "source": [
    "mystr = 'Hello World' # Define string using single quotes\n",
    "print(mystr)"
   ]
  },
  {
   "cell_type": "code",
   "execution_count": null,
   "id": "cbbf06a1-ae87-4bb6-84a7-3a8c1c1116e6",
   "metadata": {
    "id": "cbbf06a1-ae87-4bb6-84a7-3a8c1c1116e6",
    "outputId": "0aac3b1e-a41d-4003-85ec-29bee94d2a66"
   },
   "outputs": [
    {
     "name": "stdout",
     "output_type": "stream",
     "text": [
      "Data science is the process of analyzing large amounts \n",
      "of data to extract insights for businesses. It's a multidisciplinary\n",
      "field that draws from mathematics, statistics, artificial intelligence, \n",
      "and computer engineering. <class 'str'>\n"
     ]
    }
   ],
   "source": [
    "s = \"\"\"Data science is the process of analyzing large amounts\n",
    "of data to extract insights for businesses. It's a multidisciplinary\n",
    "field that draws from mathematics, statistics, artificial intelligence,\n",
    "and computer engineering.\"\"\"\n",
    "print(s, type(s))"
   ]
  },
  {
   "cell_type": "markdown",
   "id": "21e9ae35",
   "metadata": {
    "id": "21e9ae35"
   },
   "source": [
    "### String indexing"
   ]
  },
  {
   "cell_type": "code",
   "execution_count": null,
   "id": "cd4091f8",
   "metadata": {
    "id": "cd4091f8",
    "scrolled": true
   },
   "outputs": [],
   "source": [
    "str1='HELLO PYTHON'"
   ]
  },
  {
   "cell_type": "code",
   "execution_count": null,
   "id": "959883df-0e9a-4951-827a-cf752e456df3",
   "metadata": {
    "id": "959883df-0e9a-4951-827a-cf752e456df3"
   },
   "outputs": [],
   "source": [
    "str1 = \"python\""
   ]
  },
  {
   "cell_type": "code",
   "execution_count": null,
   "id": "bb12a213",
   "metadata": {
    "id": "bb12a213",
    "outputId": "c96d1ae2-fe13-4aa6-ccef-86abaf05546b"
   },
   "outputs": [
    {
     "data": {
      "text/plain": [
       "'p'"
      ]
     },
     "execution_count": 56,
     "metadata": {},
     "output_type": "execute_result"
    }
   ],
   "source": [
    "str1[0] # First character in string \"str1\"\n"
   ]
  },
  {
   "cell_type": "code",
   "execution_count": null,
   "id": "dead0eea",
   "metadata": {
    "id": "dead0eea",
    "outputId": "573ec658-0f8b-4b7c-cd90-1bdd2d13023c"
   },
   "outputs": [
    {
     "data": {
      "text/plain": [
       "'y'"
      ]
     },
     "execution_count": 57,
     "metadata": {},
     "output_type": "execute_result"
    }
   ],
   "source": [
    "str1[-5]"
   ]
  },
  {
   "cell_type": "code",
   "execution_count": null,
   "id": "f4bc7dfc",
   "metadata": {
    "id": "f4bc7dfc",
    "outputId": "027f11bf-8460-4228-9a7e-bf1916330046"
   },
   "outputs": [
    {
     "data": {
      "text/plain": [
       "6"
      ]
     },
     "execution_count": 58,
     "metadata": {},
     "output_type": "execute_result"
    }
   ],
   "source": [
    "len(str1) # Number of elements in given string."
   ]
  },
  {
   "cell_type": "code",
   "execution_count": null,
   "id": "2e238e59",
   "metadata": {
    "id": "2e238e59",
    "outputId": "6eca3645-812a-43cb-a075-881a210dfda1"
   },
   "outputs": [
    {
     "data": {
      "text/plain": [
       "'N'"
      ]
     },
     "execution_count": 89,
     "metadata": {},
     "output_type": "execute_result"
    }
   ],
   "source": [
    "str1[len(str1)-1] # Last character in string using len functio"
   ]
  },
  {
   "cell_type": "code",
   "execution_count": null,
   "id": "686c1440",
   "metadata": {
    "id": "686c1440"
   },
   "outputs": [],
   "source": [
    "str1[-1] # Last character in string\n"
   ]
  },
  {
   "cell_type": "code",
   "execution_count": null,
   "id": "ae641b47",
   "metadata": {
    "id": "ae641b47"
   },
   "outputs": [],
   "source": [
    "str1[11]"
   ]
  },
  {
   "cell_type": "code",
   "execution_count": null,
   "id": "123531e7",
   "metadata": {
    "id": "123531e7"
   },
   "outputs": [],
   "source": [
    "str1[6] #Fetch 7th element of the string"
   ]
  },
  {
   "cell_type": "code",
   "execution_count": null,
   "id": "47f9ed1c",
   "metadata": {
    "id": "47f9ed1c"
   },
   "outputs": [],
   "source": [
    "str1[5]"
   ]
  },
  {
   "cell_type": "code",
   "execution_count": null,
   "id": "6c019b9e-2b12-4a0b-b322-9d050ab1ad3d",
   "metadata": {
    "id": "6c019b9e-2b12-4a0b-b322-9d050ab1ad3d",
    "outputId": "31fc3afc-f1fe-4024-ccfe-a1e6ae662496"
   },
   "outputs": [
    {
     "data": {
      "text/plain": [
       "' '"
      ]
     },
     "execution_count": 65,
     "metadata": {},
     "output_type": "execute_result"
    }
   ],
   "source": [
    "s1 = \"python course\"\n",
    "len(s1)\n",
    "s1[0]\n",
    "s1[-1]\n",
    "s1[5]\n",
    "s1[6]\n",
    "# print(s1[4])"
   ]
  },
  {
   "cell_type": "markdown",
   "id": "617e14ce",
   "metadata": {
    "id": "617e14ce"
   },
   "source": [
    "### String Slicing"
   ]
  },
  {
   "cell_type": "code",
   "execution_count": null,
   "id": "d58c5a74-83d5-4449-9609-225e089a5048",
   "metadata": {
    "id": "d58c5a74-83d5-4449-9609-225e089a5048"
   },
   "outputs": [],
   "source": [
    "# s1[start_index(include):end_index(exclude:step_size)"
   ]
  },
  {
   "cell_type": "code",
   "execution_count": null,
   "id": "03b4199e",
   "metadata": {
    "id": "03b4199e",
    "outputId": "99ae9d19-f02e-4ffe-ad02-7a85c7ccbfc9"
   },
   "outputs": [
    {
     "data": {
      "text/plain": [
       "12"
      ]
     },
     "execution_count": 98,
     "metadata": {},
     "output_type": "execute_result"
    }
   ],
   "source": [
    "str1='HELLO PYTHON'\n",
    "len(str1)"
   ]
  },
  {
   "cell_type": "code",
   "execution_count": null,
   "id": "803eef0b",
   "metadata": {
    "id": "803eef0b",
    "outputId": "f0308ad1-730d-41b6-e0c1-5f4e193c1e68"
   },
   "outputs": [
    {
     "data": {
      "text/plain": [
       "'HLOPTO'"
      ]
     },
     "execution_count": 101,
     "metadata": {},
     "output_type": "execute_result"
    }
   ],
   "source": [
    "str1[0:11:2]"
   ]
  },
  {
   "cell_type": "code",
   "execution_count": null,
   "id": "708a1ccc-8afb-44d8-9b34-f2250f57aafc",
   "metadata": {
    "id": "708a1ccc-8afb-44d8-9b34-f2250f57aafc",
    "outputId": "02a95dee-508e-424b-c88a-38289b09bf44"
   },
   "outputs": [
    {
     "data": {
      "text/plain": [
       "'LLO PYTH'"
      ]
     },
     "execution_count": 104,
     "metadata": {},
     "output_type": "execute_result"
    }
   ],
   "source": [
    "str1[-10:-2]"
   ]
  },
  {
   "cell_type": "code",
   "execution_count": null,
   "id": "efa9dcc5-f804-4b8b-b49a-5e66d1603a4c",
   "metadata": {
    "id": "efa9dcc5-f804-4b8b-b49a-5e66d1603a4c",
    "outputId": "e2c6ecd1-5580-4cd5-93cc-0435759c4bce"
   },
   "outputs": [
    {
     "data": {
      "text/plain": [
       "'NOHTYP OLLEH'"
      ]
     },
     "execution_count": 105,
     "metadata": {},
     "output_type": "execute_result"
    }
   ],
   "source": [
    "str1[::-1]"
   ]
  },
  {
   "cell_type": "code",
   "execution_count": null,
   "id": "51e851cb",
   "metadata": {
    "id": "51e851cb",
    "outputId": "449a2a94-5815-4842-a7bb-8d841b99f543"
   },
   "outputs": [
    {
     "data": {
      "text/plain": [
       "'HELLO'"
      ]
     },
     "execution_count": 106,
     "metadata": {},
     "output_type": "execute_result"
    }
   ],
   "source": [
    "str1[0:5] ## start:end"
   ]
  },
  {
   "cell_type": "code",
   "execution_count": null,
   "id": "8146ce76",
   "metadata": {
    "id": "8146ce76",
    "outputId": "1846d38e-81c8-4f0b-eb34-49235b2392d2"
   },
   "outputs": [
    {
     "data": {
      "text/plain": [
       "'HELLO PYTHON'"
      ]
     },
     "execution_count": 107,
     "metadata": {},
     "output_type": "execute_result"
    }
   ],
   "source": [
    "str1"
   ]
  },
  {
   "cell_type": "code",
   "execution_count": null,
   "id": "0882fb00",
   "metadata": {
    "id": "0882fb00"
   },
   "outputs": [],
   "source": [
    "str2='Data is new fuel'\n",
    "# Task:-Extract new and data from above string"
   ]
  },
  {
   "cell_type": "code",
   "execution_count": null,
   "id": "40a16f5a-b6de-43af-8f01-825b458313d0",
   "metadata": {
    "id": "40a16f5a-b6de-43af-8f01-825b458313d0",
    "outputId": "6515ed59-8da2-41da-e17f-9394bfc52405"
   },
   "outputs": [
    {
     "data": {
      "text/plain": [
       "'Data science is the study of data to gain insights that can help busin'"
      ]
     },
     "execution_count": 109,
     "metadata": {},
     "output_type": "execute_result"
    }
   ],
   "source": [
    "s1 = \"Data science is the study of data to gain insights that can help businesses\"\n",
    "s1[:-5]"
   ]
  },
  {
   "cell_type": "code",
   "execution_count": null,
   "id": "411d97c7-bdfb-4cb8-b529-204711d896c3",
   "metadata": {
    "id": "411d97c7-bdfb-4cb8-b529-204711d896c3",
    "outputId": "6c420dce-51c2-4120-be72-015acf881e2c"
   },
   "outputs": [
    {
     "data": {
      "text/plain": [
       "'cience is the study of data to gain insights that can help busin'"
      ]
     },
     "execution_count": 110,
     "metadata": {},
     "output_type": "execute_result"
    }
   ],
   "source": [
    "s1[6:-5]"
   ]
  },
  {
   "cell_type": "code",
   "execution_count": null,
   "id": "39e4fd28-9a8d-4c47-91da-ec98c3f896f9",
   "metadata": {
    "id": "39e4fd28-9a8d-4c47-91da-ec98c3f896f9",
    "outputId": "9fd95a63-787e-40a1-acbd-2fe4e16b3daa"
   },
   "outputs": [
    {
     "data": {
      "text/plain": [
       "'cience is the study of data to gain insights that can help busin'"
      ]
     },
     "execution_count": 84,
     "metadata": {},
     "output_type": "execute_result"
    }
   ],
   "source": [
    "s1[6:-5:1]"
   ]
  },
  {
   "cell_type": "code",
   "execution_count": null,
   "id": "f5e9082c-b519-4316-a012-a83c617c83c6",
   "metadata": {
    "id": "f5e9082c-b519-4316-a012-a83c617c83c6",
    "outputId": "b50dfd45-af10-44b5-9c41-156d223a6494"
   },
   "outputs": [
    {
     "data": {
      "text/plain": [
       "'nisub pleh nac taht sthgisni niag ot atad fo yduts eht si ecneic'"
      ]
     },
     "execution_count": 87,
     "metadata": {},
     "output_type": "execute_result"
    }
   ],
   "source": [
    "s1[-6:5:-1]"
   ]
  },
  {
   "cell_type": "code",
   "execution_count": null,
   "id": "1SzjOqCB6Y8C",
   "metadata": {
    "colab": {
     "base_uri": "https://localhost:8080/",
     "height": 35
    },
    "executionInfo": {
     "elapsed": 546,
     "status": "ok",
     "timestamp": 1696745502543,
     "user": {
      "displayName": "Rama Chandra Kotturu",
      "userId": "02243285469857073193"
     },
     "user_tz": -330
    },
    "id": "1SzjOqCB6Y8C",
    "outputId": "7457c85b-4b2b-466d-b2b4-00229de5e64d"
   },
   "outputs": [
    {
     "data": {
      "application/vnd.google.colaboratory.intrinsic+json": {
       "type": "string"
      },
      "text/plain": [
       "'wen'"
      ]
     },
     "execution_count": 4,
     "metadata": {},
     "output_type": "execute_result"
    }
   ],
   "source": [
    "str2[-6:-9:-1]"
   ]
  },
  {
   "cell_type": "code",
   "execution_count": null,
   "id": "ed2661d2",
   "metadata": {
    "collapsed": true,
    "id": "ed2661d2",
    "jupyter": {
     "outputs_hidden": true
    },
    "outputId": "a91a95d2-6843-4417-981b-3dbc5fc4b82c"
   },
   "outputs": [
    {
     "data": {
      "text/plain": [
       "'HELLO PYTHON'"
      ]
     },
     "execution_count": 2,
     "metadata": {},
     "output_type": "execute_result"
    }
   ],
   "source": [
    "str1[:]"
   ]
  },
  {
   "cell_type": "code",
   "execution_count": null,
   "id": "23b33ead",
   "metadata": {
    "collapsed": true,
    "id": "23b33ead",
    "jupyter": {
     "outputs_hidden": true
    },
    "outputId": "6632b0cd-c8ae-4bd2-dd2e-f3493f46d40e"
   },
   "outputs": [
    {
     "data": {
      "text/plain": [
       "'LO PYTHON'"
      ]
     },
     "execution_count": 3,
     "metadata": {},
     "output_type": "execute_result"
    }
   ],
   "source": [
    "str1[3:]"
   ]
  },
  {
   "cell_type": "code",
   "execution_count": null,
   "id": "d4627050",
   "metadata": {
    "collapsed": true,
    "id": "d4627050",
    "jupyter": {
     "outputs_hidden": true
    },
    "outputId": "5c27554e-12c7-4311-9651-0b097abd0119"
   },
   "outputs": [
    {
     "data": {
      "text/plain": [
       "'HELLO '"
      ]
     },
     "execution_count": 4,
     "metadata": {},
     "output_type": "execute_result"
    }
   ],
   "source": [
    "str1[:6]"
   ]
  },
  {
   "cell_type": "code",
   "execution_count": null,
   "id": "3fe62f83",
   "metadata": {
    "collapsed": true,
    "id": "3fe62f83",
    "jupyter": {
     "outputs_hidden": true
    },
    "outputId": "ae0bad63-ac64-4cc0-d7a1-85acc37a68a9"
   },
   "outputs": [
    {
     "data": {
      "text/plain": [
       "'HELLO PYTHON'"
      ]
     },
     "execution_count": 5,
     "metadata": {},
     "output_type": "execute_result"
    }
   ],
   "source": [
    "str1"
   ]
  },
  {
   "cell_type": "code",
   "execution_count": null,
   "id": "dae41c90",
   "metadata": {
    "collapsed": true,
    "id": "dae41c90",
    "jupyter": {
     "outputs_hidden": true
    },
    "outputId": "0ca6b4a9-3f3b-4b83-fa91-6ddbf4ed3866"
   },
   "outputs": [
    {
     "data": {
      "text/plain": [
       "''"
      ]
     },
     "execution_count": 6,
     "metadata": {},
     "output_type": "execute_result"
    }
   ],
   "source": [
    "str1[-6:-10]"
   ]
  },
  {
   "cell_type": "code",
   "execution_count": null,
   "id": "5b8ffccc",
   "metadata": {
    "collapsed": true,
    "id": "5b8ffccc",
    "jupyter": {
     "outputs_hidden": true
    },
    "outputId": "35ec8739-4c94-4b99-cdbf-f6bb28b14f8d"
   },
   "outputs": [
    {
     "data": {
      "text/plain": [
       "'LLO P'"
      ]
     },
     "execution_count": 7,
     "metadata": {},
     "output_type": "execute_result"
    }
   ],
   "source": [
    "str1[-10:-5]"
   ]
  },
  {
   "cell_type": "code",
   "execution_count": null,
   "id": "d5094f73",
   "metadata": {
    "id": "d5094f73"
   },
   "outputs": [],
   "source": [
    "str1"
   ]
  },
  {
   "cell_type": "code",
   "execution_count": null,
   "id": "f6a09f95-8c6f-4aff-a8e9-7f039958c3df",
   "metadata": {
    "id": "f6a09f95-8c6f-4aff-a8e9-7f039958c3df",
    "outputId": "8a436a9f-20e4-4d7c-af67-6711f2800106"
   },
   "outputs": [
    {
     "data": {
      "text/plain": [
       "'123'"
      ]
     },
     "execution_count": 2,
     "metadata": {},
     "output_type": "execute_result"
    }
   ],
   "source": [
    "s = \"datamites123dff\"\n",
    "s[9:12]"
   ]
  },
  {
   "cell_type": "code",
   "execution_count": null,
   "id": "27040e35",
   "metadata": {
    "id": "27040e35",
    "jupyter": {
     "source_hidden": true
    },
    "outputId": "c62e63e0-645a-4d0b-b069-f4afdd3b20ee"
   },
   "outputs": [
    {
     "data": {
      "text/plain": [
       "'NHY LE'"
      ]
     },
     "execution_count": 13,
     "metadata": {},
     "output_type": "execute_result"
    }
   ],
   "source": [
    "# str1[start:end:step]\n",
    "\n",
    "str1[::-2]"
   ]
  },
  {
   "cell_type": "markdown",
   "id": "26ea1f22",
   "metadata": {
    "id": "26ea1f22"
   },
   "source": [
    "### Update and Delete string"
   ]
  },
  {
   "cell_type": "markdown",
   "id": "8be8dec6",
   "metadata": {
    "id": "8be8dec6"
   },
   "source": [
    "* Strings are immutable which means elements of a\n",
    "\n",
    "1.   List item\n",
    "2.   List item\n",
    "\n",
    "\n",
    "string cannot be changed once the they are assigned with\n",
    "any values\n"
   ]
  },
  {
   "cell_type": "code",
   "execution_count": null,
   "id": "b48e5be5",
   "metadata": {
    "id": "b48e5be5"
   },
   "outputs": [],
   "source": [
    "str1='Hello python'"
   ]
  },
  {
   "cell_type": "code",
   "execution_count": null,
   "id": "67aec6de",
   "metadata": {
    "colab": {
     "base_uri": "https://localhost:8080/",
     "height": 211
    },
    "executionInfo": {
     "elapsed": 9,
     "status": "error",
     "timestamp": 1696745745237,
     "user": {
      "displayName": "Rama Chandra Kotturu",
      "userId": "02243285469857073193"
     },
     "user_tz": -330
    },
    "id": "67aec6de",
    "outputId": "c129477c-3761-4bc1-b99e-9c2ece07b679"
   },
   "outputs": [
    {
     "ename": "TypeError",
     "evalue": "'str' object does not support item assignment",
     "output_type": "error",
     "traceback": [
      "\u001b[1;31m---------------------------------------------------------------------------\u001b[0m",
      "\u001b[1;31mTypeError\u001b[0m                                 Traceback (most recent call last)",
      "Cell \u001b[1;32mIn[4], line 1\u001b[0m\n\u001b[1;32m----> 1\u001b[0m str1[\u001b[38;5;241m0\u001b[39m:\u001b[38;5;241m2\u001b[39m]\u001b[38;5;241m=\u001b[39m\u001b[38;5;124m'\u001b[39m\u001b[38;5;124mHI\u001b[39m\u001b[38;5;124m'\u001b[39m\n",
      "\u001b[1;31mTypeError\u001b[0m: 'str' object does not support item assignment"
     ]
    }
   ],
   "source": [
    "str1[0:2]='HI'\n"
   ]
  },
  {
   "cell_type": "code",
   "execution_count": null,
   "id": "23c958e1",
   "metadata": {
    "id": "23c958e1"
   },
   "outputs": [],
   "source": [
    "str3=str1.replace('He','HI')\n",
    "# string.replace('character to replace','by what value\n",
    "#the character should be replaced')"
   ]
  },
  {
   "cell_type": "code",
   "execution_count": null,
   "id": "aa3ca2e7-e2c8-4122-8675-b354eb078bf1",
   "metadata": {
    "id": "aa3ca2e7-e2c8-4122-8675-b354eb078bf1",
    "outputId": "2873e3a9-ba4c-403e-a104-d00b7418b649"
   },
   "outputs": [
    {
     "data": {
      "text/plain": [
       "'HIllo python'"
      ]
     },
     "execution_count": 9,
     "metadata": {},
     "output_type": "execute_result"
    }
   ],
   "source": [
    "str3"
   ]
  },
  {
   "cell_type": "code",
   "execution_count": null,
   "id": "25140bcf-6156-4058-9d95-139b4deff04f",
   "metadata": {
    "id": "25140bcf-6156-4058-9d95-139b4deff04f",
    "outputId": "a77a11ab-9644-4e83-f7d7-71f8008b4379"
   },
   "outputs": [
    {
     "data": {
      "text/plain": [
       "'Hello python'"
      ]
     },
     "execution_count": 10,
     "metadata": {},
     "output_type": "execute_result"
    }
   ],
   "source": [
    "str1"
   ]
  },
  {
   "cell_type": "code",
   "execution_count": null,
   "id": "b5d233be",
   "metadata": {
    "id": "b5d233be",
    "outputId": "fecbf57e-d5fb-4ebf-cf2d-0ed203966881"
   },
   "outputs": [
    {
     "data": {
      "text/plain": [
       "'HELLO PYTHON'"
      ]
     },
     "execution_count": 6,
     "metadata": {},
     "output_type": "execute_result"
    }
   ],
   "source": [
    "str1"
   ]
  },
  {
   "cell_type": "code",
   "execution_count": null,
   "id": "23859af5-1e18-4125-88c7-6cd1198e9d76",
   "metadata": {
    "id": "23859af5-1e18-4125-88c7-6cd1198e9d76"
   },
   "outputs": [],
   "source": []
  },
  {
   "cell_type": "code",
   "execution_count": null,
   "id": "10f2206b",
   "metadata": {
    "id": "10f2206b",
    "outputId": "0bb006a3-51bb-4725-b6b7-edf1c4804e45"
   },
   "outputs": [
    {
     "data": {
      "text/plain": [
       "'HILLO PYTHON'"
      ]
     },
     "execution_count": 7,
     "metadata": {},
     "output_type": "execute_result"
    }
   ],
   "source": [
    "str3"
   ]
  },
  {
   "cell_type": "code",
   "execution_count": null,
   "id": "14da5e50",
   "metadata": {
    "id": "14da5e50",
    "scrolled": true
   },
   "outputs": [],
   "source": [
    "del str1 # Delete a string\n",
    "\n"
   ]
  },
  {
   "cell_type": "code",
   "execution_count": null,
   "id": "1500df89",
   "metadata": {
    "id": "1500df89",
    "outputId": "3c7d0308-417d-4f08-c489-c50db8416f5a"
   },
   "outputs": [
    {
     "ename": "NameError",
     "evalue": "name 'str1' is not defined",
     "output_type": "error",
     "traceback": [
      "\u001b[1;31m---------------------------------------------------------------------------\u001b[0m",
      "\u001b[1;31mNameError\u001b[0m                                 Traceback (most recent call last)",
      "Cell \u001b[1;32mIn[12], line 1\u001b[0m\n\u001b[1;32m----> 1\u001b[0m \u001b[43mstr1\u001b[49m\n",
      "\u001b[1;31mNameError\u001b[0m: name 'str1' is not defined"
     ]
    }
   ],
   "source": [
    "str1"
   ]
  },
  {
   "cell_type": "markdown",
   "id": "b5b59f30",
   "metadata": {
    "id": "b5b59f30"
   },
   "source": [
    "### String concatenation\n"
   ]
  },
  {
   "cell_type": "code",
   "execution_count": null,
   "id": "4c2cc25b",
   "metadata": {
    "id": "4c2cc25b",
    "outputId": "e5cda1b0-da77-4dc9-8662-b4cdbe2b2f83"
   },
   "outputs": [
    {
     "data": {
      "text/plain": [
       "'Data*Science'"
      ]
     },
     "execution_count": 16,
     "metadata": {},
     "output_type": "execute_result"
    }
   ],
   "source": [
    "#  String concatenation\n",
    "s1 = \"Data\"\n",
    "s2 = \"Science\"\n",
    "s3=s1 + \"*\"+ s2\n",
    "s3"
   ]
  },
  {
   "cell_type": "code",
   "execution_count": null,
   "id": "8b12292c",
   "metadata": {
    "id": "8b12292c",
    "outputId": "73dee9a1-3707-4d46-c63f-dbfb92b5966c"
   },
   "outputs": [
    {
     "data": {
      "text/plain": [
       "5"
      ]
     },
     "execution_count": 12,
     "metadata": {},
     "output_type": "execute_result"
    }
   ],
   "source": [
    "2+3"
   ]
  },
  {
   "cell_type": "code",
   "execution_count": null,
   "id": "668e22ee",
   "metadata": {
    "colab": {
     "base_uri": "https://localhost:8080/"
    },
    "executionInfo": {
     "elapsed": 417,
     "status": "ok",
     "timestamp": 1652333748044,
     "user": {
      "displayName": "Rohan Ravindra Sohani",
      "userId": "06993368347103045844"
     },
     "user_tz": -330
    },
    "id": "668e22ee",
    "outputId": "55d48f26-217b-4b97-ff00-d42ac2650078",
    "scrolled": true
   },
   "outputs": [
    {
     "data": {
      "text/plain": [
       "'datascience'"
      ]
     },
     "execution_count": 14,
     "metadata": {},
     "output_type": "execute_result"
    }
   ],
   "source": [
    "'data'+'science'"
   ]
  },
  {
   "cell_type": "code",
   "execution_count": null,
   "id": "b9a1bc0e",
   "metadata": {
    "id": "b9a1bc0e"
   },
   "outputs": [],
   "source": [
    "#  String concatenation\n",
    "s1 = \"Data\"\n",
    "s2 = \"Science\"\n",
    "s3 = s1 +\" \"+ s2"
   ]
  },
  {
   "cell_type": "code",
   "execution_count": null,
   "id": "d8f423bd",
   "metadata": {
    "id": "d8f423bd",
    "outputId": "e95613ce-7eba-4ea3-be39-6207fb018878"
   },
   "outputs": [
    {
     "name": "stdout",
     "output_type": "stream",
     "text": [
      "Data Science\n"
     ]
    }
   ],
   "source": [
    "print(s3)"
   ]
  },
  {
   "cell_type": "markdown",
   "id": "7b1f3379",
   "metadata": {
    "id": "7b1f3379"
   },
   "source": [
    "### String Membership"
   ]
  },
  {
   "cell_type": "code",
   "execution_count": null,
   "id": "86d2b79a",
   "metadata": {
    "id": "86d2b79a"
   },
   "outputs": [],
   "source": [
    "# String membership\n",
    "mystr1 = \"Hello Everyone\"\n"
   ]
  },
  {
   "cell_type": "code",
   "execution_count": null,
   "id": "073089bb",
   "metadata": {
    "id": "073089bb",
    "outputId": "9cf537ce-26f1-4ee7-c863-bc38afd3a1f5"
   },
   "outputs": [
    {
     "data": {
      "text/plain": [
       "True"
      ]
     },
     "execution_count": 20,
     "metadata": {},
     "output_type": "execute_result"
    }
   ],
   "source": [
    "'Hello' in mystr1 # Check whether\n",
    "#substring \"Hello\" is present in given string"
   ]
  },
  {
   "cell_type": "code",
   "execution_count": null,
   "id": "8c90f7d0",
   "metadata": {
    "id": "8c90f7d0",
    "outputId": "397087df-11a3-44a1-904f-4c025c71ce0b"
   },
   "outputs": [
    {
     "data": {
      "text/plain": [
       "False"
      ]
     },
     "execution_count": 21,
     "metadata": {},
     "output_type": "execute_result"
    }
   ],
   "source": [
    "'hello' in mystr1"
   ]
  },
  {
   "cell_type": "markdown",
   "id": "8ece4e99",
   "metadata": {
    "id": "8ece4e99"
   },
   "source": [
    "### String Partioning"
   ]
  },
  {
   "cell_type": "code",
   "execution_count": null,
   "id": "0ba08747",
   "metadata": {
    "executionInfo": {
     "elapsed": 454,
     "status": "ok",
     "timestamp": 1652335083127,
     "user": {
      "displayName": "Rohan Ravindra Sohani",
      "userId": "06993368347103045844"
     },
     "user_tz": -330
    },
    "id": "0ba08747",
    "outputId": "290c7825-e707-4c93-e417-d7d4ffc353c7"
   },
   "outputs": [
    {
     "data": {
      "text/plain": [
       "('Natural language processing with Python ', 'and', ' R and Java')"
      ]
     },
     "execution_count": 22,
     "metadata": {},
     "output_type": "execute_result"
    }
   ],
   "source": [
    "\"\"\"\n",
    "The partition() method searches for a specified string and splits the string into\n",
    " - The first element contains the part before the argument string.\n",
    " - The second element contains the argument string.\n",
    " - The third element contains the part after the argument string.\n",
    "\"\"\"\n",
    "str5 = \"Natural language processing with Python and R and Java\"\n",
    "L = str5.partition(\"and\")\n",
    "L"
   ]
  },
  {
   "cell_type": "code",
   "execution_count": null,
   "id": "e2ed5194-bff5-433a-9936-e2ee1ce23148",
   "metadata": {
    "id": "e2ed5194-bff5-433a-9936-e2ee1ce23148",
    "outputId": "4ee29994-eaea-4cfb-fc8b-ff13a654cebd"
   },
   "outputs": [
    {
     "data": {
      "text/plain": [
       "('Natural language processing with Python and ', 'R', ' and Java')"
      ]
     },
     "execution_count": 24,
     "metadata": {},
     "output_type": "execute_result"
    }
   ],
   "source": [
    "str5 = \"Natural language processing with Python and R and Java\"\n",
    "L = str5.partition( \"R\")\n",
    "L"
   ]
  },
  {
   "cell_type": "code",
   "execution_count": null,
   "id": "18caaae1",
   "metadata": {
    "id": "18caaae1"
   },
   "outputs": [],
   "source": [
    "str5"
   ]
  },
  {
   "cell_type": "code",
   "execution_count": null,
   "id": "4ee663bd",
   "metadata": {
    "id": "4ee663bd"
   },
   "outputs": [],
   "source": [
    "L"
   ]
  },
  {
   "cell_type": "markdown",
   "id": "8c3d4fc9",
   "metadata": {
    "id": "8c3d4fc9"
   },
   "source": [
    "### String Functions"
   ]
  },
  {
   "cell_type": "code",
   "execution_count": null,
   "id": "be81f2fa",
   "metadata": {
    "collapsed": true,
    "id": "be81f2fa",
    "jupyter": {
     "outputs_hidden": true
    },
    "outputId": "2164e1ae-255b-4ec4-b248-3e4be2e195c8"
   },
   "outputs": [
    {
     "data": {
      "text/plain": [
       "' Hello Everyone '"
      ]
     },
     "execution_count": 24,
     "metadata": {},
     "output_type": "execute_result"
    }
   ],
   "source": [
    "mystr2 = \" Hello Everyone \"\n",
    "mystr2"
   ]
  },
  {
   "cell_type": "code",
   "execution_count": null,
   "id": "d409e01e",
   "metadata": {
    "collapsed": true,
    "id": "d409e01e",
    "jupyter": {
     "outputs_hidden": true
    },
    "outputId": "fb82509e-9f04-4280-fbb5-e05c17ea8d45"
   },
   "outputs": [
    {
     "data": {
      "text/plain": [
       "3"
      ]
     },
     "execution_count": 26,
     "metadata": {},
     "output_type": "execute_result"
    }
   ],
   "source": [
    "mystr2.count('e')"
   ]
  },
  {
   "cell_type": "code",
   "execution_count": null,
   "id": "3855fdc1",
   "metadata": {
    "id": "3855fdc1"
   },
   "outputs": [],
   "source": [
    "mystr2.count('E') ## count the number of occurence of given substring in given string"
   ]
  },
  {
   "cell_type": "code",
   "execution_count": null,
   "id": "6e52d5b9",
   "metadata": {
    "id": "6e52d5b9",
    "outputId": "0e9bece5-1085-45c0-92eb-4a742a3be7bd"
   },
   "outputs": [
    {
     "data": {
      "text/plain": [
       "' Hello Everyone '"
      ]
     },
     "execution_count": 27,
     "metadata": {},
     "output_type": "execute_result"
    }
   ],
   "source": [
    "mystr2"
   ]
  },
  {
   "cell_type": "code",
   "execution_count": null,
   "id": "e7a3b771",
   "metadata": {
    "collapsed": true,
    "id": "e7a3b771",
    "jupyter": {
     "outputs_hidden": true
    },
    "outputId": "0f9ee69d-4083-4260-8986-c50c7b87dd3c"
   },
   "outputs": [
    {
     "data": {
      "text/plain": [
       "'Hello Everyone'"
      ]
     },
     "execution_count": 28,
     "metadata": {},
     "output_type": "execute_result"
    }
   ],
   "source": [
    "mystr2.strip()"
   ]
  },
  {
   "cell_type": "code",
   "execution_count": null,
   "id": "0c5a67a2",
   "metadata": {
    "collapsed": true,
    "id": "0c5a67a2",
    "jupyter": {
     "outputs_hidden": true
    },
    "outputId": "26b6371c-4275-48a0-a8e5-ff2f5e0d7871"
   },
   "outputs": [
    {
     "data": {
      "text/plain": [
       "' Hello Everyone '"
      ]
     },
     "execution_count": 32,
     "metadata": {},
     "output_type": "execute_result"
    }
   ],
   "source": [
    "mystr2"
   ]
  },
  {
   "cell_type": "code",
   "execution_count": null,
   "id": "ed2b80db",
   "metadata": {
    "id": "ed2b80db"
   },
   "outputs": [],
   "source": [
    "str1=mystr2.strip()"
   ]
  },
  {
   "cell_type": "code",
   "execution_count": null,
   "id": "822cbd37",
   "metadata": {
    "collapsed": true,
    "id": "822cbd37",
    "jupyter": {
     "outputs_hidden": true
    },
    "outputId": "71e0085f-a1c8-493d-e8dc-3adfa56191a8"
   },
   "outputs": [
    {
     "data": {
      "text/plain": [
       "'Hello Everyone'"
      ]
     },
     "execution_count": 31,
     "metadata": {},
     "output_type": "execute_result"
    }
   ],
   "source": [
    "str1"
   ]
  },
  {
   "cell_type": "code",
   "execution_count": null,
   "id": "adfd0c11",
   "metadata": {
    "id": "adfd0c11",
    "scrolled": true
   },
   "outputs": [],
   "source": [
    "mystr2.rstrip() # Removes all whitespaces at the end of the string"
   ]
  },
  {
   "cell_type": "code",
   "execution_count": null,
   "id": "ddba005e",
   "metadata": {
    "id": "ddba005e",
    "scrolled": true
   },
   "outputs": [],
   "source": [
    "mystr2.lstrip() # Removes all whitespaces at the begining of the string"
   ]
  },
  {
   "cell_type": "code",
   "execution_count": null,
   "id": "c747149b",
   "metadata": {
    "id": "c747149b"
   },
   "outputs": [],
   "source": [
    "mystr2"
   ]
  },
  {
   "cell_type": "code",
   "execution_count": null,
   "id": "b7afef19",
   "metadata": {
    "id": "b7afef19"
   },
   "outputs": [],
   "source": [
    "mystr2 = \"*********Hello Everyone***********All the Best**********\"\n",
    "mystr2"
   ]
  },
  {
   "cell_type": "code",
   "execution_count": null,
   "id": "dbb00304",
   "metadata": {
    "id": "dbb00304",
    "scrolled": true
   },
   "outputs": [],
   "source": [
    "mystr2.strip('*') # Removes all '*' characters from begining\n",
    "#& end of the string"
   ]
  },
  {
   "cell_type": "code",
   "execution_count": null,
   "id": "af7c9b10",
   "metadata": {
    "id": "af7c9b10"
   },
   "outputs": [],
   "source": [
    "mystr2='HELLO PYTHON'"
   ]
  },
  {
   "cell_type": "code",
   "execution_count": null,
   "id": "9a08cfda",
   "metadata": {
    "collapsed": true,
    "id": "9a08cfda",
    "jupyter": {
     "outputs_hidden": true
    },
    "outputId": "92519c7c-e345-48fd-96ad-e9da01b30358"
   },
   "outputs": [
    {
     "data": {
      "text/plain": [
       "'hello python'"
      ]
     },
     "execution_count": 34,
     "metadata": {},
     "output_type": "execute_result"
    }
   ],
   "source": [
    "mystr2.lower()"
   ]
  },
  {
   "cell_type": "code",
   "execution_count": null,
   "id": "c2a468df",
   "metadata": {
    "id": "c2a468df"
   },
   "outputs": [],
   "source": [
    "mystr5='hello python'"
   ]
  },
  {
   "cell_type": "code",
   "execution_count": null,
   "id": "340e2449",
   "metadata": {
    "id": "340e2449",
    "outputId": "e7fbe459-5327-45e6-bfc4-ca76aaf74aff",
    "scrolled": true
   },
   "outputs": [
    {
     "data": {
      "text/plain": [
       "'HELLO PYTHON'"
      ]
     },
     "execution_count": 36,
     "metadata": {},
     "output_type": "execute_result"
    }
   ],
   "source": [
    "mystr5.upper()"
   ]
  },
  {
   "cell_type": "code",
   "execution_count": null,
   "id": "fad85656",
   "metadata": {
    "id": "fad85656",
    "outputId": "c6ef001c-b6dc-4c8f-b892-a420b61c5115"
   },
   "outputs": [
    {
     "data": {
      "text/plain": [
       "False"
      ]
     },
     "execution_count": 38,
     "metadata": {},
     "output_type": "execute_result"
    }
   ],
   "source": [
    "mystr5.startswith(\"He\")\n",
    "# Return boolean value True if string starts with \"He\"\n"
   ]
  },
  {
   "cell_type": "code",
   "execution_count": null,
   "id": "6305a0b1",
   "metadata": {
    "id": "6305a0b1",
    "outputId": "5a428a41-b6bb-42c4-e80f-f038111c2303"
   },
   "outputs": [
    {
     "data": {
      "text/plain": [
       "True"
      ]
     },
     "execution_count": 39,
     "metadata": {},
     "output_type": "execute_result"
    }
   ],
   "source": [
    "mystr5.endswith(\"on\")\n",
    "# Return boolean value True if string ends with \"on\""
   ]
  },
  {
   "cell_type": "code",
   "execution_count": null,
   "id": "f7d7c529",
   "metadata": {
    "id": "f7d7c529"
   },
   "outputs": [],
   "source": [
    "mystr4 = \"one two three four one two two \\\n",
    "three five five six seven six seven one oneone ten eight \\\n",
    "ten nine eleven ten ten nine\""
   ]
  },
  {
   "cell_type": "code",
   "execution_count": null,
   "id": "44834058",
   "metadata": {
    "collapsed": true,
    "id": "44834058",
    "jupyter": {
     "outputs_hidden": true
    },
    "outputId": "fd12d735-5575-4a8d-86d3-fefb6f8a439c"
   },
   "outputs": [
    {
     "data": {
      "text/plain": [
       "'one two three four one two two three five five six seven six seven one oneone ten eight ten nine eleven ten ten nine'"
      ]
     },
     "execution_count": 2,
     "metadata": {},
     "output_type": "execute_result"
    }
   ],
   "source": [
    "mystr4"
   ]
  },
  {
   "cell_type": "code",
   "execution_count": null,
   "id": "a8c2ae2d",
   "metadata": {
    "id": "a8c2ae2d"
   },
   "outputs": [],
   "source": [
    "print(mystr4.split('e'))"
   ]
  },
  {
   "cell_type": "code",
   "execution_count": null,
   "id": "ff8f5f98",
   "metadata": {
    "id": "ff8f5f98",
    "outputId": "bf72a4a5-8f64-4c51-fe49-643f4555fe5d"
   },
   "outputs": [
    {
     "data": {
      "text/plain": [
       "'Cost of item1 , item2 and item3 are 40 , 77 and 55'"
      ]
     },
     "execution_count": 47,
     "metadata": {},
     "output_type": "execute_result"
    }
   ],
   "source": [
    "# Combining string & numbers using format method\n",
    "item1 = 40\n",
    "item2 =   55\n",
    "item3 = 77\n",
    "\"Cost of item1 , item2 and item3 are {} , {} and {}\"\n",
    ".format(item1,item3,item2)\n",
    "\n"
   ]
  },
  {
   "cell_type": "code",
   "execution_count": null,
   "id": "0362f463",
   "metadata": {
    "id": "0362f463"
   },
   "outputs": [],
   "source": [
    "a=5\n",
    "b=3\n",
    "c=9\n",
    "print('The value of a is {}\n",
    "      and the value of b is {} value of c is {}  '.format(b,c,a))"
   ]
  },
  {
   "cell_type": "markdown",
   "id": "ed364f92",
   "metadata": {
    "id": "ed364f92"
   },
   "source": [
    "# Typecasting"
   ]
  },
  {
   "cell_type": "markdown",
   "id": "1eee6a0d",
   "metadata": {
    "id": "1eee6a0d"
   },
   "source": [
    "* Type Casting is the method to convert the variable data type into a certain data\n",
    "type in order to the operation required to be performed by users.\n",
    "\n",
    "* There are 2 ways in which typecasting is performed.\n",
    "\n",
    "1) Autotypecasting\n",
    "\n",
    "\n",
    "2) Forced Typecasting"
   ]
  },
  {
   "cell_type": "markdown",
   "id": "202310c5",
   "metadata": {
    "id": "202310c5"
   },
   "source": [
    "## Auto Typecasting\n",
    "* The Python interpreter automatically converts one data type to another without any user involvement."
   ]
  },
  {
   "cell_type": "code",
   "execution_count": null,
   "id": "85f98668",
   "metadata": {
    "id": "85f98668",
    "outputId": "5cef69de-3df3-49d8-8bdb-7a4d514c7ad9",
    "scrolled": true
   },
   "outputs": [
    {
     "data": {
      "text/plain": [
       "9.67"
      ]
     },
     "execution_count": 48,
     "metadata": {},
     "output_type": "execute_result"
    }
   ],
   "source": [
    "4 + 5.67 + False\n",
    "##( background processing of the code) due to the\n",
    "##higher hierarchy of float datatype"
   ]
  },
  {
   "cell_type": "code",
   "execution_count": null,
   "id": "5ae66f4a",
   "metadata": {
    "id": "5ae66f4a",
    "outputId": "edc3836e-2555-4652-f091-77cfdeaa41ee"
   },
   "outputs": [
    {
     "data": {
      "text/plain": [
       "10.6"
      ]
     },
     "execution_count": 49,
     "metadata": {},
     "output_type": "execute_result"
    }
   ],
   "source": [
    "4 + 5.6 + False + True"
   ]
  },
  {
   "cell_type": "code",
   "execution_count": null,
   "id": "d2d1107a",
   "metadata": {
    "colab": {
     "base_uri": "https://localhost:8080/",
     "height": 166
    },
    "executionInfo": {
     "elapsed": 8,
     "status": "error",
     "timestamp": 1652354423989,
     "user": {
      "displayName": "Rohan Ravindra Sohani",
      "userId": "06993368347103045844"
     },
     "user_tz": -330
    },
    "id": "d2d1107a",
    "outputId": "d1145384-0b36-470d-c901-9c394cf2fb51"
   },
   "outputs": [
    {
     "ename": "TypeError",
     "evalue": "unsupported operand type(s) for +: 'int' and 'str'",
     "output_type": "error",
     "traceback": [
      "\u001b[0;31m---------------------------------------------------------------------------\u001b[0m",
      "\u001b[0;31mTypeError\u001b[0m                                 Traceback (most recent call last)",
      "\u001b[0;32m/var/folders/3w/qgrjz9016jd1t5gx01np29gw0000gn/T/ipykernel_6543/2495151742.py\u001b[0m in \u001b[0;36m<module>\u001b[0;34m\u001b[0m\n\u001b[0;32m----> 1\u001b[0;31m \u001b[0;36m4\u001b[0m\u001b[0;34m+\u001b[0m\u001b[0;36m3\u001b[0m\u001b[0;34m+\u001b[0m\u001b[0;34m'data'\u001b[0m\u001b[0;34m+\u001b[0m\u001b[0;36m6.7\u001b[0m\u001b[0;34m\u001b[0m\u001b[0;34m\u001b[0m\u001b[0m\n\u001b[0m",
      "\u001b[0;31mTypeError\u001b[0m: unsupported operand type(s) for +: 'int' and 'str'"
     ]
    }
   ],
   "source": [
    "4+3+'data'+6.7"
   ]
  },
  {
   "cell_type": "code",
   "execution_count": null,
   "id": "d272b730",
   "metadata": {
    "id": "d272b730",
    "scrolled": true
   },
   "outputs": [],
   "source": [
    "True + 3.6"
   ]
  },
  {
   "cell_type": "markdown",
   "id": "86d08aae",
   "metadata": {
    "id": "86d08aae"
   },
   "source": [
    "## Forced Typecasting"
   ]
  },
  {
   "cell_type": "code",
   "execution_count": null,
   "id": "d42d6532",
   "metadata": {
    "id": "d42d6532"
   },
   "outputs": [],
   "source": [
    "a=9.7"
   ]
  },
  {
   "cell_type": "code",
   "execution_count": null,
   "id": "5c4bd907",
   "metadata": {
    "id": "5c4bd907",
    "outputId": "a15e6835-34ce-4423-cb9d-e22c2ad96fa5"
   },
   "outputs": [
    {
     "data": {
      "text/plain": [
       "float"
      ]
     },
     "execution_count": 52,
     "metadata": {},
     "output_type": "execute_result"
    }
   ],
   "source": [
    "type(a)"
   ]
  },
  {
   "cell_type": "code",
   "execution_count": null,
   "id": "52c773ff",
   "metadata": {
    "id": "52c773ff",
    "outputId": "9a733539-974e-4cc7-8178-a74375a463e9"
   },
   "outputs": [
    {
     "data": {
      "text/plain": [
       "9"
      ]
     },
     "execution_count": 53,
     "metadata": {},
     "output_type": "execute_result"
    }
   ],
   "source": [
    "int(a)"
   ]
  },
  {
   "cell_type": "code",
   "execution_count": null,
   "id": "26d9fc15",
   "metadata": {
    "id": "26d9fc15",
    "outputId": "f2f36a47-e279-4405-8c39-11d17088917a"
   },
   "outputs": [
    {
     "data": {
      "text/plain": [
       "False"
      ]
     },
     "execution_count": 55,
     "metadata": {},
     "output_type": "execute_result"
    }
   ],
   "source": [
    "bool(a)"
   ]
  },
  {
   "cell_type": "code",
   "execution_count": null,
   "id": "b91c3821",
   "metadata": {
    "id": "b91c3821",
    "outputId": "2f592889-cf35-43bd-c3f7-c0348af390f7"
   },
   "outputs": [
    {
     "data": {
      "text/plain": [
       "'9.7'"
      ]
     },
     "execution_count": 56,
     "metadata": {},
     "output_type": "execute_result"
    }
   ],
   "source": [
    "str(a)"
   ]
  },
  {
   "cell_type": "code",
   "execution_count": null,
   "id": "dc49132c",
   "metadata": {
    "id": "dc49132c"
   },
   "outputs": [],
   "source": [
    "a=5"
   ]
  },
  {
   "cell_type": "code",
   "execution_count": null,
   "id": "afe1b8fe",
   "metadata": {
    "id": "afe1b8fe",
    "outputId": "ab1e2fae-0126-4a5f-db7c-4bcceff6f682"
   },
   "outputs": [
    {
     "data": {
      "text/plain": [
       "5.0"
      ]
     },
     "execution_count": 58,
     "metadata": {},
     "output_type": "execute_result"
    }
   ],
   "source": [
    "float(a)"
   ]
  },
  {
   "cell_type": "code",
   "execution_count": null,
   "id": "5263d0e3",
   "metadata": {
    "id": "5263d0e3",
    "outputId": "f012207f-28c1-4c18-bcba-84b521c2ae32"
   },
   "outputs": [
    {
     "data": {
      "text/plain": [
       "True"
      ]
     },
     "execution_count": 59,
     "metadata": {},
     "output_type": "execute_result"
    }
   ],
   "source": [
    "bool(a)"
   ]
  },
  {
   "cell_type": "code",
   "execution_count": null,
   "id": "0ba33ee8",
   "metadata": {
    "id": "0ba33ee8",
    "outputId": "1c24056a-fe6a-49d2-d11f-d91285b29803",
    "scrolled": true
   },
   "outputs": [
    {
     "data": {
      "text/plain": [
       "'5'"
      ]
     },
     "execution_count": 60,
     "metadata": {},
     "output_type": "execute_result"
    }
   ],
   "source": [
    "str(a)"
   ]
  },
  {
   "cell_type": "code",
   "execution_count": null,
   "id": "423ea644",
   "metadata": {
    "id": "423ea644"
   },
   "outputs": [],
   "source": [
    "a=False"
   ]
  },
  {
   "cell_type": "code",
   "execution_count": null,
   "id": "d2f19935",
   "metadata": {
    "id": "d2f19935",
    "outputId": "6a515d9f-38bd-47b2-ce48-21c0195fff39"
   },
   "outputs": [
    {
     "data": {
      "text/plain": [
       "0.0"
      ]
     },
     "execution_count": 66,
     "metadata": {},
     "output_type": "execute_result"
    }
   ],
   "source": [
    "float(a)"
   ]
  },
  {
   "cell_type": "code",
   "execution_count": null,
   "id": "26b1d16e",
   "metadata": {
    "id": "26b1d16e",
    "outputId": "2e1abf4e-d337-4a55-f252-922115d32aae"
   },
   "outputs": [
    {
     "data": {
      "text/plain": [
       "0"
      ]
     },
     "execution_count": 67,
     "metadata": {},
     "output_type": "execute_result"
    }
   ],
   "source": [
    "int(a)"
   ]
  },
  {
   "cell_type": "code",
   "execution_count": null,
   "id": "1a52f466",
   "metadata": {
    "id": "1a52f466",
    "outputId": "ae0a1f3d-6485-4b83-921a-9c9e153cbc87"
   },
   "outputs": [
    {
     "data": {
      "text/plain": [
       "'False'"
      ]
     },
     "execution_count": 68,
     "metadata": {},
     "output_type": "execute_result"
    }
   ],
   "source": [
    "str(a)"
   ]
  },
  {
   "cell_type": "code",
   "execution_count": null,
   "id": "2613aa7d",
   "metadata": {
    "id": "2613aa7d"
   },
   "outputs": [],
   "source": [
    "a='qewrw'"
   ]
  },
  {
   "cell_type": "code",
   "execution_count": null,
   "id": "c3cbcdb2",
   "metadata": {
    "collapsed": true,
    "id": "c3cbcdb2",
    "jupyter": {
     "outputs_hidden": true
    },
    "outputId": "46363522-79a0-435e-b5a7-1967416951d3"
   },
   "outputs": [
    {
     "ename": "ValueError",
     "evalue": "could not convert string to float: 'qewrw'",
     "output_type": "error",
     "traceback": [
      "\u001b[0;31m---------------------------------------------------------------------------\u001b[0m",
      "\u001b[0;31mValueError\u001b[0m                                Traceback (most recent call last)",
      "\u001b[0;32m/var/folders/3w/qgrjz9016jd1t5gx01np29gw0000gn/T/ipykernel_6543/593670237.py\u001b[0m in \u001b[0;36m<module>\u001b[0;34m\u001b[0m\n\u001b[0;32m----> 1\u001b[0;31m \u001b[0mfloat\u001b[0m\u001b[0;34m(\u001b[0m\u001b[0ma\u001b[0m\u001b[0;34m)\u001b[0m\u001b[0;34m\u001b[0m\u001b[0;34m\u001b[0m\u001b[0m\n\u001b[0m",
      "\u001b[0;31mValueError\u001b[0m: could not convert string to float: 'qewrw'"
     ]
    }
   ],
   "source": [
    "float(a)"
   ]
  },
  {
   "cell_type": "code",
   "execution_count": null,
   "id": "40f399e5",
   "metadata": {
    "collapsed": true,
    "id": "40f399e5",
    "jupyter": {
     "outputs_hidden": true
    },
    "outputId": "af69c6fb-8e20-4eb8-8e42-fc61e4fe9824"
   },
   "outputs": [
    {
     "ename": "ValueError",
     "evalue": "invalid literal for int() with base 10: 'qewrw'",
     "output_type": "error",
     "traceback": [
      "\u001b[0;31m---------------------------------------------------------------------------\u001b[0m",
      "\u001b[0;31mValueError\u001b[0m                                Traceback (most recent call last)",
      "\u001b[0;32m/var/folders/3w/qgrjz9016jd1t5gx01np29gw0000gn/T/ipykernel_6543/766485689.py\u001b[0m in \u001b[0;36m<module>\u001b[0;34m\u001b[0m\n\u001b[0;32m----> 1\u001b[0;31m \u001b[0mint\u001b[0m\u001b[0;34m(\u001b[0m\u001b[0ma\u001b[0m\u001b[0;34m)\u001b[0m\u001b[0;34m\u001b[0m\u001b[0;34m\u001b[0m\u001b[0m\n\u001b[0m",
      "\u001b[0;31mValueError\u001b[0m: invalid literal for int() with base 10: 'qewrw'"
     ]
    }
   ],
   "source": [
    "int(a)"
   ]
  },
  {
   "cell_type": "code",
   "execution_count": null,
   "id": "31946450",
   "metadata": {
    "id": "31946450"
   },
   "outputs": [],
   "source": [
    "a=''"
   ]
  },
  {
   "cell_type": "code",
   "execution_count": null,
   "id": "1fee0875",
   "metadata": {
    "id": "1fee0875",
    "outputId": "aa979e07-2441-4751-d374-3bf3015f6c34"
   },
   "outputs": [
    {
     "data": {
      "text/plain": [
       "False"
      ]
     },
     "execution_count": 74,
     "metadata": {},
     "output_type": "execute_result"
    }
   ],
   "source": [
    "bool(a)"
   ]
  },
  {
   "cell_type": "code",
   "execution_count": null,
   "id": "f4e7c68a",
   "metadata": {
    "colab": {
     "base_uri": "https://localhost:8080/",
     "height": 166
    },
    "executionInfo": {
     "elapsed": 559,
     "status": "error",
     "timestamp": 1652334099577,
     "user": {
      "displayName": "Rohan Ravindra Sohani",
      "userId": "06993368347103045844"
     },
     "user_tz": -330
    },
    "id": "f4e7c68a",
    "outputId": "dead3237-e682-41f3-9d05-4e001cac5310"
   },
   "outputs": [
    {
     "ename": "ValueError",
     "evalue": "invalid literal for int() with base 10: 'data'",
     "output_type": "error",
     "traceback": [
      "\u001b[0;31m---------------------------------------------------------------------------\u001b[0m",
      "\u001b[0;31mValueError\u001b[0m                                Traceback (most recent call last)",
      "\u001b[0;32m/var/folders/3w/qgrjz9016jd1t5gx01np29gw0000gn/T/ipykernel_6543/1447147357.py\u001b[0m in \u001b[0;36m<module>\u001b[0;34m\u001b[0m\n\u001b[0;32m----> 1\u001b[0;31m \u001b[0mint\u001b[0m\u001b[0;34m(\u001b[0m\u001b[0;34m'data'\u001b[0m\u001b[0;34m)\u001b[0m\u001b[0;34m\u001b[0m\u001b[0;34m\u001b[0m\u001b[0m\n\u001b[0m",
      "\u001b[0;31mValueError\u001b[0m: invalid literal for int() with base 10: 'data'"
     ]
    }
   ],
   "source": [
    "int('data')"
   ]
  },
  {
   "cell_type": "code",
   "execution_count": null,
   "id": "bd684c6f",
   "metadata": {
    "id": "bd684c6f",
    "outputId": "efaac74d-183c-41cf-e3e8-e5222355dba2"
   },
   "outputs": [
    {
     "data": {
      "text/plain": [
       "2"
      ]
     },
     "execution_count": 76,
     "metadata": {},
     "output_type": "execute_result"
    }
   ],
   "source": [
    "int('2')"
   ]
  },
  {
   "cell_type": "code",
   "execution_count": null,
   "id": "9e8361d5",
   "metadata": {
    "id": "9e8361d5",
    "outputId": "40118f82-f1e0-4a2c-8af9-6cc3774c27b3"
   },
   "outputs": [
    {
     "data": {
      "text/plain": [
       "1"
      ]
     },
     "execution_count": 77,
     "metadata": {},
     "output_type": "execute_result"
    }
   ],
   "source": [
    "int(True)"
   ]
  },
  {
   "cell_type": "code",
   "execution_count": null,
   "id": "75f03975",
   "metadata": {
    "id": "75f03975",
    "outputId": "a32b769b-b65e-4a17-ed47-a215ed679e55",
    "scrolled": true
   },
   "outputs": [
    {
     "data": {
      "text/plain": [
       "0"
      ]
     },
     "execution_count": 78,
     "metadata": {},
     "output_type": "execute_result"
    }
   ],
   "source": [
    "int(False)"
   ]
  },
  {
   "cell_type": "code",
   "execution_count": null,
   "id": "3905f14c",
   "metadata": {
    "id": "3905f14c",
    "outputId": "39d89d3c-1ae0-4f5e-b8e9-b53579307b16"
   },
   "outputs": [
    {
     "data": {
      "text/plain": [
       "1.0"
      ]
     },
     "execution_count": 79,
     "metadata": {},
     "output_type": "execute_result"
    }
   ],
   "source": [
    "float(True)"
   ]
  },
  {
   "cell_type": "code",
   "execution_count": null,
   "id": "dc81f7e9",
   "metadata": {
    "id": "dc81f7e9",
    "outputId": "b8eb9159-de8a-4bb8-8434-445b82131fb2",
    "scrolled": true
   },
   "outputs": [
    {
     "data": {
      "text/plain": [
       "0.0"
      ]
     },
     "execution_count": 80,
     "metadata": {},
     "output_type": "execute_result"
    }
   ],
   "source": [
    "float(False)"
   ]
  },
  {
   "cell_type": "code",
   "execution_count": null,
   "id": "2c1e5c2c",
   "metadata": {
    "id": "2c1e5c2c",
    "outputId": "828371ac-2509-4c14-f604-780223509aeb"
   },
   "outputs": [
    {
     "ename": "ValueError",
     "evalue": "could not convert string to float: 'abc'",
     "output_type": "error",
     "traceback": [
      "\u001b[0;31m---------------------------------------------------------------------------\u001b[0m",
      "\u001b[0;31mValueError\u001b[0m                                Traceback (most recent call last)",
      "\u001b[0;32m/var/folders/3w/qgrjz9016jd1t5gx01np29gw0000gn/T/ipykernel_6543/3020208941.py\u001b[0m in \u001b[0;36m<module>\u001b[0;34m\u001b[0m\n\u001b[0;32m----> 1\u001b[0;31m \u001b[0mfloat\u001b[0m\u001b[0;34m(\u001b[0m\u001b[0;34m'abc'\u001b[0m\u001b[0;34m)\u001b[0m  \u001b[0;31m# Convert the datatype to float\u001b[0m\u001b[0;34m\u001b[0m\u001b[0;34m\u001b[0m\u001b[0m\n\u001b[0m",
      "\u001b[0;31mValueError\u001b[0m: could not convert string to float: 'abc'"
     ]
    }
   ],
   "source": [
    "float('abc')  # Convert the datatype to float"
   ]
  },
  {
   "cell_type": "code",
   "execution_count": null,
   "id": "395b4aa7",
   "metadata": {
    "id": "395b4aa7",
    "outputId": "89ec310d-ed5d-44fb-b8c2-b28688feeaeb",
    "scrolled": true
   },
   "outputs": [
    {
     "data": {
      "text/plain": [
       "True"
      ]
     },
     "execution_count": 82,
     "metadata": {},
     "output_type": "execute_result"
    }
   ],
   "source": [
    "bool(8.9)#converting float type into bool"
   ]
  },
  {
   "cell_type": "code",
   "execution_count": null,
   "id": "a48861ee",
   "metadata": {
    "id": "a48861ee",
    "outputId": "bba63f1e-a5a9-455c-f61f-809438ef44ef",
    "scrolled": true
   },
   "outputs": [
    {
     "data": {
      "text/plain": [
       "False"
      ]
     },
     "execution_count": 83,
     "metadata": {},
     "output_type": "execute_result"
    }
   ],
   "source": [
    "bool(0)"
   ]
  },
  {
   "cell_type": "code",
   "execution_count": null,
   "id": "00a8c882",
   "metadata": {
    "id": "00a8c882",
    "outputId": "2c76b4c7-3f46-4a60-a80a-6d695900129d",
    "scrolled": true
   },
   "outputs": [
    {
     "data": {
      "text/plain": [
       "True"
      ]
     },
     "execution_count": 84,
     "metadata": {},
     "output_type": "execute_result"
    }
   ],
   "source": [
    "bool(-1)"
   ]
  },
  {
   "cell_type": "code",
   "execution_count": null,
   "id": "85eff29b",
   "metadata": {
    "id": "85eff29b",
    "outputId": "18bc98de-936d-4452-f99c-6fd3da734426"
   },
   "outputs": [
    {
     "data": {
      "text/plain": [
       "5"
      ]
     },
     "execution_count": 85,
     "metadata": {},
     "output_type": "execute_result"
    }
   ],
   "source": [
    "# Guess the output\n",
    "int(1.5)+4+bool(0)\n"
   ]
  },
  {
   "cell_type": "code",
   "execution_count": null,
   "id": "d63dad07",
   "metadata": {
    "id": "d63dad07",
    "outputId": "047f3686-c0ea-424c-fdaa-a1d42268c8d2"
   },
   "outputs": [
    {
     "data": {
      "text/plain": [
       "12.0"
      ]
     },
     "execution_count": 86,
     "metadata": {},
     "output_type": "execute_result"
    }
   ],
   "source": [
    "int(5.6)+float(6)+bool(23)\n"
   ]
  },
  {
   "cell_type": "code",
   "execution_count": null,
   "id": "06aee519",
   "metadata": {
    "id": "06aee519",
    "outputId": "d25165bc-5017-47eb-ab1d-6bda1c5f499a"
   },
   "outputs": [
    {
     "data": {
      "text/plain": [
       "12.2"
      ]
     },
     "execution_count": 87,
     "metadata": {},
     "output_type": "execute_result"
    }
   ],
   "source": [
    "int(6.5)+1.2+int(5.5)+ bool(0)"
   ]
  },
  {
   "cell_type": "code",
   "execution_count": null,
   "id": "a8c93b79",
   "metadata": {
    "id": "a8c93b79",
    "outputId": "ed9754f0-c312-47ce-e208-a84cf22edb93"
   },
   "outputs": [
    {
     "data": {
      "text/plain": [
       "'5'"
      ]
     },
     "execution_count": 88,
     "metadata": {},
     "output_type": "execute_result"
    }
   ],
   "source": [
    "str(5)"
   ]
  },
  {
   "cell_type": "code",
   "execution_count": null,
   "id": "62476512",
   "metadata": {
    "id": "62476512",
    "outputId": "de56134b-80b1-4bab-8258-5e6eef510567"
   },
   "outputs": [
    {
     "data": {
      "text/plain": [
       "'9.0'"
      ]
     },
     "execution_count": 89,
     "metadata": {},
     "output_type": "execute_result"
    }
   ],
   "source": [
    "str(9.0)"
   ]
  },
  {
   "cell_type": "code",
   "execution_count": null,
   "id": "434e87de",
   "metadata": {
    "id": "434e87de",
    "outputId": "b2290f43-fce0-4b5b-ab47-2e3c33410ab3"
   },
   "outputs": [
    {
     "data": {
      "text/plain": [
       "'True'"
      ]
     },
     "execution_count": 90,
     "metadata": {},
     "output_type": "execute_result"
    }
   ],
   "source": [
    "str(True)"
   ]
  },
  {
   "cell_type": "code",
   "execution_count": null,
   "id": "25110c49",
   "metadata": {
    "id": "25110c49",
    "outputId": "d57baa02-cf47-4612-d5df-55abccde5cf8"
   },
   "outputs": [
    {
     "data": {
      "text/plain": [
       "'False'"
      ]
     },
     "execution_count": 91,
     "metadata": {},
     "output_type": "execute_result"
    }
   ],
   "source": [
    "str(False)"
   ]
  },
  {
   "cell_type": "code",
   "execution_count": null,
   "id": "4277ef3e-1a89-421f-9b07-c6d574afd58c",
   "metadata": {
    "id": "4277ef3e-1a89-421f-9b07-c6d574afd58c"
   },
   "outputs": [],
   "source": [
    "a = 12"
   ]
  },
  {
   "cell_type": "code",
   "execution_count": null,
   "id": "1aaeddfd-0cba-4d0e-b38e-7e29bd8b028a",
   "metadata": {
    "id": "1aaeddfd-0cba-4d0e-b38e-7e29bd8b028a",
    "outputId": "8d1ac668-83e7-4c2f-b7a3-66c6b49ec12b"
   },
   "outputs": [
    {
     "name": "stdout",
     "output_type": "stream",
     "text": [
      "Python and data science ----- 23\n",
      "P\n",
      "e\n",
      "Python\n",
      "ython\n",
      " scienc\n",
      "n and data scie\n",
      "Pto n aasine\n",
      "Python and data science\n",
      "ecneics atad dna nohtyP\n"
     ]
    }
   ],
   "source": [
    "s = \"Python and data science\"\n",
    "print(s,\"-----\",len(s))\n",
    "print(s [0])\n",
    "print(s[-1])\n",
    "print(s[0:6])\n",
    "print(s[1:6])\n",
    "print(s[-8:-1])\n",
    "print(s[5:-3])\n",
    "print(s[0:24:2])\n",
    "print(s[::])\n",
    "print(s[::-1])"
   ]
  },
  {
   "cell_type": "code",
   "execution_count": null,
   "id": "abe8d530-76ea-475a-9c57-2163671713db",
   "metadata": {
    "id": "abe8d530-76ea-475a-9c57-2163671713db",
    "outputId": "429054f8-fb6d-4250-9d24-48d5e6e74f4e"
   },
   "outputs": [
    {
     "data": {
      "text/plain": [
       "'datascience'"
      ]
     },
     "execution_count": 83,
     "metadata": {},
     "output_type": "execute_result"
    }
   ],
   "source": [
    "s1 = \"data\"\n",
    "s2 = \"science\"\n",
    "s3 = s1+s2\n",
    "s3"
   ]
  },
  {
   "cell_type": "code",
   "execution_count": null,
   "id": "003e4ee7-2a1e-4952-baf2-08d31e894d18",
   "metadata": {
    "id": "003e4ee7-2a1e-4952-baf2-08d31e894d18",
    "outputId": "6524a85b-4367-481b-f4cb-2c16d3f8d7b9"
   },
   "outputs": [
    {
     "data": {
      "text/plain": [
       "'data science'"
      ]
     },
     "execution_count": 84,
     "metadata": {},
     "output_type": "execute_result"
    }
   ],
   "source": [
    "s1 = \"data\"\n",
    "s2 = \"science\"\n",
    "s3 = s1+ \" \"+ s2\n",
    "print(s3)"
   ]
  },
  {
   "cell_type": "code",
   "execution_count": null,
   "id": "d402006e-2868-4278-83b4-977d66f959eb",
   "metadata": {
    "id": "d402006e-2868-4278-83b4-977d66f959eb"
   },
   "outputs": [],
   "source": [
    "del"
   ]
  },
  {
   "cell_type": "code",
   "execution_count": null,
   "id": "fd5837ea-35de-4eb4-9072-b5432ee9e82c",
   "metadata": {
    "id": "fd5837ea-35de-4eb4-9072-b5432ee9e82c",
    "outputId": "6f0c9d21-80d6-45cf-948e-d51e2054894b"
   },
   "outputs": [
    {
     "data": {
      "text/plain": [
       "['python', 'and', 'data', 'science']"
      ]
     },
     "execution_count": 85,
     "metadata": {},
     "output_type": "execute_result"
    }
   ],
   "source": [
    "s = \"python and data science\"\n",
    "s.split()"
   ]
  },
  {
   "cell_type": "code",
   "execution_count": null,
   "id": "Ngb01lo6bUnj",
   "metadata": {
    "id": "Ngb01lo6bUnj"
   },
   "outputs": [],
   "source": []
  },
  {
   "cell_type": "code",
   "execution_count": null,
   "id": "b09e5734-3377-4c61-9a87-418afd9cccc0",
   "metadata": {
    "id": "b09e5734-3377-4c61-9a87-418afd9cccc0",
    "outputId": "a1cc16f9-37a5-49a2-81ea-f644a4b3b6b1"
   },
   "outputs": [
    {
     "data": {
      "text/plain": [
       "['python ', ' data science ', ' machine learning']"
      ]
     },
     "execution_count": 87,
     "metadata": {},
     "output_type": "execute_result"
    }
   ],
   "source": [
    "s = \"python and data science and machine learning\"\n",
    "s.split(\"and\")"
   ]
  }
 ],
 "metadata": {
  "colab": {
   "provenance": []
  },
  "kernelspec": {
   "display_name": "Python 3 (ipykernel)",
   "language": "python",
   "name": "python3"
  },
  "language_info": {
   "codemirror_mode": {
    "name": "ipython",
    "version": 3
   },
   "file_extension": ".py",
   "mimetype": "text/x-python",
   "name": "python",
   "nbconvert_exporter": "python",
   "pygments_lexer": "ipython3",
   "version": "3.12.7"
  }
 },
 "nbformat": 4,
 "nbformat_minor": 5
}
